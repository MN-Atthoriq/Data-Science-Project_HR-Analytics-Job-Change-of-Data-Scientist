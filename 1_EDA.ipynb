{
  "cells": [
    {
      "cell_type": "markdown",
      "metadata": {
        "id": "cFuSYDaeOGhI"
      },
      "source": [
        "# Job Change of Data Scientists | Data Science Project | EDA"
      ]
    },
    {
      "cell_type": "markdown",
      "metadata": {
        "id": "9YNrF0KlO9MQ"
      },
      "source": [
        "> Data from [Kaggle](https://www.kaggle.com/datasets/arashnic/hr-analytics-job-change-of-data-scientists) with modification in problem context.\n",
        "\n",
        "*This project was completed as a part of Rakamin Academy Data Science Bootcamp.*\n",
        "\n",
        "Ascencio, a leading Data Science agency, offers training courses to companies to enhance their employees' skills. Companies want to predict which employees are **unlikely to seek a job change** after completing the course, as well as identify those who are **likely to finish it quickly**. By focusing on employees who are committed to staying and can contribute sooner, Ascencio helps companies optimize their training investments.\n",
        "\n",
        "To achieve this, Ascencio will build two machine learning models: one to predict the training hours needed for an employee to complete the course, and another to predict whether an employee will seek a job change or not."
      ]
    },
    {
      "cell_type": "markdown",
      "metadata": {
        "id": "NavE5GDLN5dN"
      },
      "source": [
        "# Prepare Everything!"
      ]
    },
    {
      "cell_type": "code",
      "execution_count": 353,
      "metadata": {
        "colab": {
          "base_uri": "https://localhost:8080/"
        },
        "id": "WGptuRpS1HXx",
        "outputId": "3911085a-0ea9-4122-f5be-a8e1da5ca352"
      },
      "outputs": [
        {
          "name": "stdout",
          "output_type": "stream",
          "text": [
            "numpy version :  2.2.1\n",
            "pandas version :  2.2.3\n",
            "matplotlib version :  3.10.0\n",
            "seaborn version :  0.13.2\n"
          ]
        }
      ],
      "source": [
        "# import library\n",
        "import pandas as pd\n",
        "import numpy as np\n",
        "import matplotlib as mpl\n",
        "import matplotlib.pyplot as plt\n",
        "import matplotlib.ticker as mtick\n",
        "import matplotlib.gridspec as grid_spec\n",
        "import seaborn as sns\n",
        "%matplotlib inline\n",
        "\n",
        "import warnings\n",
        "warnings.filterwarnings('ignore')\n",
        "\n",
        "print('numpy version : ',np.__version__)\n",
        "print('pandas version : ',pd.__version__)\n",
        "print('matplotlib version : ',mpl.__version__)\n",
        "print('seaborn version : ',sns.__version__)"
      ]
    },
    {
      "cell_type": "markdown",
      "metadata": {},
      "source": [
        "# Prepare Everything!"
      ]
    },
    {
      "cell_type": "code",
      "execution_count": 354,
      "metadata": {
        "colab": {
          "base_uri": "https://localhost:8080/",
          "height": 114
        },
        "id": "79xzuoyYLstn",
        "outputId": "109a0465-4e48-4d75-8d34-bb4e2298548e"
      },
      "outputs": [
        {
          "data": {
            "image/png": "[encoded data removed]",
            "text/plain": [
              "<Figure size 500x100 with 1 Axes>"
            ]
          },
          "metadata": {},
          "output_type": "display_data"
        }
      ],
      "source": [
        "# color palette\n",
        "green = '#15a00d'\n",
        "blue = '#003f5c'\n",
        "red = '#ff2216'\n",
        "gray = 'gray'\n",
        "bg_color = '#fbfbfb'\n",
        "sns.palplot([green,blue,red,gray,bg_color])"
      ]
    },
    {
      "cell_type": "code",
      "execution_count": 355,
      "metadata": {
        "id": "FLvKFiFCQk8c"
      },
      "outputs": [],
      "source": [
        "# default setting\n",
        "plt.rcParams[\"font.family\"] = \"serif\"\n",
        "plt.rcParams[\"figure.facecolor\"] = bg_color\n",
        "plt.rcParams[\"axes.facecolor\"] = bg_color\n",
        "plt.rcParams[\"axes.spines.right\"] = False\n",
        "plt.rcParams[\"axes.spines.top\"] = False\n",
        "plt.rcParams[\"axes.spines.left\"] = False\n",
        "plt.rcParams['ytick.major.size'] = 0\n",
        "plt.rcParams['ytick.minor.size'] = 0\n",
        "plt.rcParams['xtick.major.size'] = 0\n",
        "plt.rcParams['xtick.minor.size'] = 0\n",
        "plt.rcParams['axes.axisbelow'] = True"
      ]
    },
    {
      "cell_type": "code",
      "execution_count": 356,
      "metadata": {},
      "outputs": [],
      "source": [
        "# create funcformatter for 1000 to 1k\n",
        "def thousands_formatter(x, pos):\n",
        "  if x < 1000:\n",
        "    return f'{int(x)}'\n",
        "  else:\n",
        "    return f'{int(x/1000)}k'\n",
        "  \n",
        "# create funcformatter for percentage\n",
        "def percentage_formatter(x, pos):\n",
        "  return f'{int(x)}%'"
      ]
    },
    {
      "cell_type": "markdown",
      "metadata": {
        "id": "hw2hLsxdT1PS"
      },
      "source": [
        "# Exploring the Data!"
      ]
    },
    {
      "cell_type": "code",
      "execution_count": 357,
      "metadata": {
        "id": "8txsL7kAUE_p"
      },
      "outputs": [],
      "source": [
        "# read the data\n",
        "df_train = pd.read_csv(r'Data/aug_train.csv')\n",
        "df_test = pd.read_csv(r'Data/aug_test.csv')"
      ]
    },
    {
      "cell_type": "markdown",
      "metadata": {
        "id": "4VR2paKiE0hF"
      },
      "source": [
        "\n",
        "\n",
        "> **Column List of this Dataset**\n",
        "\n",
        "1. enrollee_id : Unique ID for employee\n",
        "2. city: City code of company\n",
        "3. city_ development _index : Developement index of the city (scaled)\n",
        "4. gender: Gender of employee\n",
        "5. relevent_experience: Relevant experience of employee in Data Science\n",
        "6. enrolled_university: Type of University course enrolled now if any\n",
        "7. education_level: Education level of employee\n",
        "8. major_discipline: Education major discipline of employee\n",
        "9. experience: employee total experience in years\n",
        "10. company_size: No of employees in current employer's company\n",
        "11. company_type: Type of current employer's company\n",
        "12. last_new_job: Difference in years between previous job and current job of employee\n",
        "13. training_hours: training hours completed\n",
        "14. target: 0 – Not looking for job change, 1 – Looking for a job change\n",
        "\n"
      ]
    },
    {
      "cell_type": "markdown",
      "metadata": {
        "id": "TSwX0lijT5CU"
      },
      "source": [
        "## General Exploration"
      ]
    },
    {
      "cell_type": "markdown",
      "metadata": {
        "id": "1k8vvGOloXUH"
      },
      "source": [
        "### A. Overview Data"
      ]
    },
    {
      "cell_type": "code",
      "execution_count": 358,
      "metadata": {
        "colab": {
          "base_uri": "https://localhost:8080/",
          "height": 268
        },
        "id": "czQOprW07FKj",
        "outputId": "902b8240-e70b-47e6-b912-fa474c456110"
      },
      "outputs": [
        {
          "name": "stdout",
          "output_type": "stream",
          "text": [
            "TRAIN DATA\n"
          ]
        },
        {
          "data": {
            "text/html": [
              "<div>\n",
              "<style scoped>\n",
              "    .dataframe tbody tr th:only-of-type {\n",
              "        vertical-align: middle;\n",
              "    }\n",
              "\n",
              "    .dataframe tbody tr th {\n",
              "        vertical-align: top;\n",
              "    }\n",
              "\n",
              "    .dataframe thead th {\n",
              "        text-align: right;\n",
              "    }\n",
              "</style>\n",
              "<table border=\"1\" class=\"dataframe\">\n",
              "  <thead>\n",
              "    <tr style=\"text-align: right;\">\n",
              "      <th></th>\n",
              "      <th>enrollee_id</th>\n",
              "      <th>city</th>\n",
              "      <th>city_development_index</th>\n",
              "      <th>gender</th>\n",
              "      <th>relevent_experience</th>\n",
              "      <th>enrolled_university</th>\n",
              "      <th>education_level</th>\n",
              "      <th>major_discipline</th>\n",
              "      <th>experience</th>\n",
              "      <th>company_size</th>\n",
              "      <th>company_type</th>\n",
              "      <th>last_new_job</th>\n",
              "      <th>training_hours</th>\n",
              "      <th>target</th>\n",
              "    </tr>\n",
              "  </thead>\n",
              "  <tbody>\n",
              "    <tr>\n",
              "      <th>2344</th>\n",
              "      <td>14235</td>\n",
              "      <td>city_16</td>\n",
              "      <td>0.910</td>\n",
              "      <td>Male</td>\n",
              "      <td>Has relevent experience</td>\n",
              "      <td>no_enrollment</td>\n",
              "      <td>Masters</td>\n",
              "      <td>STEM</td>\n",
              "      <td>&gt;20</td>\n",
              "      <td>500-999</td>\n",
              "      <td>Pvt Ltd</td>\n",
              "      <td>&gt;4</td>\n",
              "      <td>47</td>\n",
              "      <td>0.0</td>\n",
              "    </tr>\n",
              "    <tr>\n",
              "      <th>4651</th>\n",
              "      <td>6214</td>\n",
              "      <td>city_65</td>\n",
              "      <td>0.802</td>\n",
              "      <td>NaN</td>\n",
              "      <td>No relevent experience</td>\n",
              "      <td>no_enrollment</td>\n",
              "      <td>High School</td>\n",
              "      <td>NaN</td>\n",
              "      <td>&lt;1</td>\n",
              "      <td>NaN</td>\n",
              "      <td>NaN</td>\n",
              "      <td>never</td>\n",
              "      <td>35</td>\n",
              "      <td>0.0</td>\n",
              "    </tr>\n",
              "    <tr>\n",
              "      <th>15778</th>\n",
              "      <td>10380</td>\n",
              "      <td>city_103</td>\n",
              "      <td>0.920</td>\n",
              "      <td>Male</td>\n",
              "      <td>No relevent experience</td>\n",
              "      <td>Full time course</td>\n",
              "      <td>Masters</td>\n",
              "      <td>STEM</td>\n",
              "      <td>5</td>\n",
              "      <td>10/49</td>\n",
              "      <td>Public Sector</td>\n",
              "      <td>1</td>\n",
              "      <td>62</td>\n",
              "      <td>0.0</td>\n",
              "    </tr>\n",
              "  </tbody>\n",
              "</table>\n",
              "</div>"
            ],
            "text/plain": [
              "       enrollee_id      city  city_development_index gender  \\\n",
              "2344         14235   city_16                   0.910   Male   \n",
              "4651          6214   city_65                   0.802    NaN   \n",
              "15778        10380  city_103                   0.920   Male   \n",
              "\n",
              "           relevent_experience enrolled_university education_level  \\\n",
              "2344   Has relevent experience       no_enrollment         Masters   \n",
              "4651    No relevent experience       no_enrollment     High School   \n",
              "15778   No relevent experience    Full time course         Masters   \n",
              "\n",
              "      major_discipline experience company_size   company_type last_new_job  \\\n",
              "2344              STEM        >20      500-999        Pvt Ltd           >4   \n",
              "4651               NaN         <1          NaN            NaN        never   \n",
              "15778             STEM          5        10/49  Public Sector            1   \n",
              "\n",
              "       training_hours  target  \n",
              "2344               47     0.0  \n",
              "4651               35     0.0  \n",
              "15778              62     0.0  "
            ]
          },
          "metadata": {},
          "output_type": "display_data"
        },
        {
          "name": "stdout",
          "output_type": "stream",
          "text": [
            "Rows numbers: 19158\n",
            "Columns numbers: 14\n"
          ]
        }
      ],
      "source": [
        "# show train data\n",
        "print(\"TRAIN DATA\")\n",
        "display(df_train.sample(3))\n",
        "print(f\"Rows numbers: {df_train.shape[0]}\")\n",
        "print(f\"Columns numbers: {df_train.shape[1]}\")"
      ]
    },
    {
      "cell_type": "code",
      "execution_count": 359,
      "metadata": {
        "colab": {
          "base_uri": "https://localhost:8080/",
          "height": 268
        },
        "id": "JDx5yx-jUb_w",
        "outputId": "541b436e-919c-413c-a0af-19c45fdb7a48"
      },
      "outputs": [
        {
          "name": "stdout",
          "output_type": "stream",
          "text": [
            "TEST DATA\n"
          ]
        },
        {
          "data": {
            "text/html": [
              "<div>\n",
              "<style scoped>\n",
              "    .dataframe tbody tr th:only-of-type {\n",
              "        vertical-align: middle;\n",
              "    }\n",
              "\n",
              "    .dataframe tbody tr th {\n",
              "        vertical-align: top;\n",
              "    }\n",
              "\n",
              "    .dataframe thead th {\n",
              "        text-align: right;\n",
              "    }\n",
              "</style>\n",
              "<table border=\"1\" class=\"dataframe\">\n",
              "  <thead>\n",
              "    <tr style=\"text-align: right;\">\n",
              "      <th></th>\n",
              "      <th>enrollee_id</th>\n",
              "      <th>city</th>\n",
              "      <th>city_development_index</th>\n",
              "      <th>gender</th>\n",
              "      <th>relevent_experience</th>\n",
              "      <th>enrolled_university</th>\n",
              "      <th>education_level</th>\n",
              "      <th>major_discipline</th>\n",
              "      <th>experience</th>\n",
              "      <th>company_size</th>\n",
              "      <th>company_type</th>\n",
              "      <th>last_new_job</th>\n",
              "      <th>training_hours</th>\n",
              "    </tr>\n",
              "  </thead>\n",
              "  <tbody>\n",
              "    <tr>\n",
              "      <th>791</th>\n",
              "      <td>23647</td>\n",
              "      <td>city_103</td>\n",
              "      <td>0.920</td>\n",
              "      <td>Male</td>\n",
              "      <td>Has relevent experience</td>\n",
              "      <td>no_enrollment</td>\n",
              "      <td>Graduate</td>\n",
              "      <td>STEM</td>\n",
              "      <td>&gt;20</td>\n",
              "      <td>1000-4999</td>\n",
              "      <td>Pvt Ltd</td>\n",
              "      <td>never</td>\n",
              "      <td>105</td>\n",
              "    </tr>\n",
              "    <tr>\n",
              "      <th>117</th>\n",
              "      <td>12308</td>\n",
              "      <td>city_143</td>\n",
              "      <td>0.740</td>\n",
              "      <td>NaN</td>\n",
              "      <td>No relevent experience</td>\n",
              "      <td>no_enrollment</td>\n",
              "      <td>Graduate</td>\n",
              "      <td>STEM</td>\n",
              "      <td>10</td>\n",
              "      <td>1000-4999</td>\n",
              "      <td>Public Sector</td>\n",
              "      <td>&gt;4</td>\n",
              "      <td>84</td>\n",
              "    </tr>\n",
              "    <tr>\n",
              "      <th>1693</th>\n",
              "      <td>17300</td>\n",
              "      <td>city_21</td>\n",
              "      <td>0.624</td>\n",
              "      <td>Male</td>\n",
              "      <td>No relevent experience</td>\n",
              "      <td>NaN</td>\n",
              "      <td>Graduate</td>\n",
              "      <td>STEM</td>\n",
              "      <td>3</td>\n",
              "      <td>&lt;10</td>\n",
              "      <td>Pvt Ltd</td>\n",
              "      <td>1</td>\n",
              "      <td>72</td>\n",
              "    </tr>\n",
              "  </tbody>\n",
              "</table>\n",
              "</div>"
            ],
            "text/plain": [
              "      enrollee_id      city  city_development_index gender  \\\n",
              "791         23647  city_103                   0.920   Male   \n",
              "117         12308  city_143                   0.740    NaN   \n",
              "1693        17300   city_21                   0.624   Male   \n",
              "\n",
              "          relevent_experience enrolled_university education_level  \\\n",
              "791   Has relevent experience       no_enrollment        Graduate   \n",
              "117    No relevent experience       no_enrollment        Graduate   \n",
              "1693   No relevent experience                 NaN        Graduate   \n",
              "\n",
              "     major_discipline experience company_size   company_type last_new_job  \\\n",
              "791              STEM        >20    1000-4999        Pvt Ltd        never   \n",
              "117              STEM         10    1000-4999  Public Sector           >4   \n",
              "1693             STEM          3          <10        Pvt Ltd            1   \n",
              "\n",
              "      training_hours  \n",
              "791              105  \n",
              "117               84  \n",
              "1693              72  "
            ]
          },
          "metadata": {},
          "output_type": "display_data"
        },
        {
          "name": "stdout",
          "output_type": "stream",
          "text": [
            "Rows numbers: 2129\n",
            "Columns numbers: 13\n"
          ]
        }
      ],
      "source": [
        "# show test data\n",
        "print(\"TEST DATA\")\n",
        "display(df_test.sample(3))\n",
        "print(f\"Rows numbers: {df_test.shape[0]}\")\n",
        "print(f\"Columns numbers: {df_test.shape[1]}\")"
      ]
    },
    {
      "cell_type": "code",
      "execution_count": 360,
      "metadata": {
        "colab": {
          "base_uri": "https://localhost:8080/"
        },
        "id": "J4ktF1T4VWFz",
        "outputId": "b3f3bb6c-b11d-493c-830d-6a120d928729"
      },
      "outputs": [
        {
          "name": "stdout",
          "output_type": "stream",
          "text": [
            "1. Test Data doesn't have ['target'] column, while Train Data have\n",
            "2. Test Data size only have about 11.11% of Train Data size\n",
            "3. Test Data is part of Train Data: False\n"
          ]
        }
      ],
      "source": [
        "# show the difference of columns in both data\n",
        "col_train = df_train.columns.tolist()\n",
        "col_test = df_test.columns.tolist()\n",
        "col_diff = list(set(col_train) - set(col_test))\n",
        "print(f\"1. Test Data doesn't have {col_diff} column, while Train Data have\")\n",
        "\n",
        "# show the percentage difference of data size\n",
        "size_diff = df_test.shape[0]/df_train.shape[0]*100\n",
        "print(f\"2. Test Data size only have about {np.round(size_diff,2)}% of Train Data size\")\n",
        "\n",
        "# show if test data is part of train data\n",
        "part_or_not = df_train[df_train.enrollee_id.isin(df_test.enrollee_id)]\n",
        "print(f\"3. Test Data is part of Train Data: {not part_or_not.empty}\")"
      ]
    },
    {
      "cell_type": "markdown",
      "metadata": {
        "id": "7pmzCtTmX1WX"
      },
      "source": [
        "Notes:<br>Since Test Data doesn't have 'target' column and only about 11.11% of Train Data size, we will only explore Train Data for efficiency."
      ]
    },
    {
      "cell_type": "markdown",
      "metadata": {
        "id": "ewSmtYe5ocVg"
      },
      "source": [
        "### B. Type Data"
      ]
    },
    {
      "cell_type": "code",
      "execution_count": 361,
      "metadata": {
        "colab": {
          "base_uri": "https://localhost:8080/"
        },
        "id": "RZxeGV_rVxd7",
        "outputId": "f5e87c46-8b9f-4139-e3d2-384eaf162867"
      },
      "outputs": [
        {
          "name": "stdout",
          "output_type": "stream",
          "text": [
            "<class 'pandas.core.frame.DataFrame'>\n",
            "RangeIndex: 19158 entries, 0 to 19157\n",
            "Data columns (total 14 columns):\n",
            " #   Column                  Non-Null Count  Dtype  \n",
            "---  ------                  --------------  -----  \n",
            " 0   enrollee_id             19158 non-null  int64  \n",
            " 1   city                    19158 non-null  object \n",
            " 2   city_development_index  19158 non-null  float64\n",
            " 3   gender                  14650 non-null  object \n",
            " 4   relevent_experience     19158 non-null  object \n",
            " 5   enrolled_university     18772 non-null  object \n",
            " 6   education_level         18698 non-null  object \n",
            " 7   major_discipline        16345 non-null  object \n",
            " 8   experience              19093 non-null  object \n",
            " 9   company_size            13220 non-null  object \n",
            " 10  company_type            13018 non-null  object \n",
            " 11  last_new_job            18735 non-null  object \n",
            " 12  training_hours          19158 non-null  int64  \n",
            " 13  target                  19158 non-null  float64\n",
            "dtypes: float64(2), int64(2), object(10)\n",
            "memory usage: 2.0+ MB\n",
            "None\n"
          ]
        }
      ],
      "source": [
        "# check data type\n",
        "print(df_train.info())"
      ]
    },
    {
      "cell_type": "markdown",
      "metadata": {
        "id": "Af8z4VieY-j2"
      },
      "source": [
        "Notes:<br>\n",
        "1. 'enrollee_id' column should have string type\n",
        "2. 'target' column should have boolean type."
      ]
    },
    {
      "cell_type": "code",
      "execution_count": 362,
      "metadata": {
        "colab": {
          "base_uri": "https://localhost:8080/"
        },
        "id": "R4bRFbm4Y6A2",
        "outputId": "8d73bc4e-9d76-475a-cc51-a28f09859787"
      },
      "outputs": [
        {
          "name": "stdout",
          "output_type": "stream",
          "text": [
            "<class 'pandas.core.frame.DataFrame'>\n",
            "RangeIndex: 19158 entries, 0 to 19157\n",
            "Data columns (total 14 columns):\n",
            " #   Column                  Non-Null Count  Dtype  \n",
            "---  ------                  --------------  -----  \n",
            " 0   enrollee_id             19158 non-null  object \n",
            " 1   city                    19158 non-null  object \n",
            " 2   city_development_index  19158 non-null  float64\n",
            " 3   gender                  14650 non-null  object \n",
            " 4   relevent_experience     19158 non-null  object \n",
            " 5   enrolled_university     18772 non-null  object \n",
            " 6   education_level         18698 non-null  object \n",
            " 7   major_discipline        16345 non-null  object \n",
            " 8   experience              19093 non-null  object \n",
            " 9   company_size            13220 non-null  object \n",
            " 10  company_type            13018 non-null  object \n",
            " 11  last_new_job            18735 non-null  object \n",
            " 12  training_hours          19158 non-null  int64  \n",
            " 13  target                  19158 non-null  bool   \n",
            "dtypes: bool(1), float64(1), int64(1), object(11)\n",
            "memory usage: 1.9+ MB\n",
            "None\n"
          ]
        }
      ],
      "source": [
        "# change it\n",
        "df_train['enrollee_id'] = df_train['enrollee_id'].astype(str)\n",
        "df_train['target'] = df_train['target'].astype(bool)\n",
        "\n",
        "# verify the changes\n",
        "print(df_train.info())"
      ]
    },
    {
      "cell_type": "code",
      "execution_count": 363,
      "metadata": {
        "colab": {
          "base_uri": "https://localhost:8080/"
        },
        "id": "IAE6rAmyZmh3",
        "outputId": "0aef49f8-e375-4d3e-fb78-5a19aaeee96d"
      },
      "outputs": [
        {
          "name": "stdout",
          "output_type": "stream",
          "text": [
            "Categorical Columns: ['enrollee_id', 'city', 'gender', 'relevent_experience', 'enrolled_university', 'education_level', 'major_discipline', 'experience', 'company_size', 'company_type', 'last_new_job', 'target']\n",
            "Numerical Columns: ['city_development_index', 'training_hours']\n"
          ]
        }
      ],
      "source": [
        "# divide categorical and numerical columns\n",
        "cats = df_train.select_dtypes(include=['object','bool']).columns.tolist()\n",
        "nums = df_train.select_dtypes(exclude=['object','bool']).columns.tolist()\n",
        "\n",
        "print(f\"Categorical Columns: {cats}\")\n",
        "print(f\"Numerical Columns: {nums}\")"
      ]
    },
    {
      "cell_type": "markdown",
      "metadata": {
        "id": "u_8aTouKojAO"
      },
      "source": [
        "### C. Describe Data"
      ]
    },
    {
      "cell_type": "code",
      "execution_count": 364,
      "metadata": {
        "colab": {
          "base_uri": "https://localhost:8080/",
          "height": 212
        },
        "id": "KNeTpfTzZ4C1",
        "outputId": "7fabb614-b07d-48a3-9623-5dbb3efcef30"
      },
      "outputs": [
        {
          "data": {
            "text/html": [
              "<div>\n",
              "<style scoped>\n",
              "    .dataframe tbody tr th:only-of-type {\n",
              "        vertical-align: middle;\n",
              "    }\n",
              "\n",
              "    .dataframe tbody tr th {\n",
              "        vertical-align: top;\n",
              "    }\n",
              "\n",
              "    .dataframe thead th {\n",
              "        text-align: right;\n",
              "    }\n",
              "</style>\n",
              "<table border=\"1\" class=\"dataframe\">\n",
              "  <thead>\n",
              "    <tr style=\"text-align: right;\">\n",
              "      <th></th>\n",
              "      <th>enrollee_id</th>\n",
              "      <th>city</th>\n",
              "      <th>gender</th>\n",
              "      <th>relevent_experience</th>\n",
              "      <th>enrolled_university</th>\n",
              "      <th>education_level</th>\n",
              "      <th>major_discipline</th>\n",
              "      <th>experience</th>\n",
              "      <th>company_size</th>\n",
              "      <th>company_type</th>\n",
              "      <th>last_new_job</th>\n",
              "      <th>target</th>\n",
              "    </tr>\n",
              "  </thead>\n",
              "  <tbody>\n",
              "    <tr>\n",
              "      <th>count</th>\n",
              "      <td>19158</td>\n",
              "      <td>19158</td>\n",
              "      <td>14650</td>\n",
              "      <td>19158</td>\n",
              "      <td>18772</td>\n",
              "      <td>18698</td>\n",
              "      <td>16345</td>\n",
              "      <td>19093</td>\n",
              "      <td>13220</td>\n",
              "      <td>13018</td>\n",
              "      <td>18735</td>\n",
              "      <td>19158</td>\n",
              "    </tr>\n",
              "    <tr>\n",
              "      <th>unique</th>\n",
              "      <td>19158</td>\n",
              "      <td>123</td>\n",
              "      <td>3</td>\n",
              "      <td>2</td>\n",
              "      <td>3</td>\n",
              "      <td>5</td>\n",
              "      <td>6</td>\n",
              "      <td>22</td>\n",
              "      <td>8</td>\n",
              "      <td>6</td>\n",
              "      <td>6</td>\n",
              "      <td>2</td>\n",
              "    </tr>\n",
              "    <tr>\n",
              "      <th>top</th>\n",
              "      <td>23834</td>\n",
              "      <td>city_103</td>\n",
              "      <td>Male</td>\n",
              "      <td>Has relevent experience</td>\n",
              "      <td>no_enrollment</td>\n",
              "      <td>Graduate</td>\n",
              "      <td>STEM</td>\n",
              "      <td>&gt;20</td>\n",
              "      <td>50-99</td>\n",
              "      <td>Pvt Ltd</td>\n",
              "      <td>1</td>\n",
              "      <td>False</td>\n",
              "    </tr>\n",
              "    <tr>\n",
              "      <th>freq</th>\n",
              "      <td>1</td>\n",
              "      <td>4355</td>\n",
              "      <td>13221</td>\n",
              "      <td>13792</td>\n",
              "      <td>13817</td>\n",
              "      <td>11598</td>\n",
              "      <td>14492</td>\n",
              "      <td>3286</td>\n",
              "      <td>3083</td>\n",
              "      <td>9817</td>\n",
              "      <td>8040</td>\n",
              "      <td>14381</td>\n",
              "    </tr>\n",
              "  </tbody>\n",
              "</table>\n",
              "</div>"
            ],
            "text/plain": [
              "       enrollee_id      city gender      relevent_experience  \\\n",
              "count        19158     19158  14650                    19158   \n",
              "unique       19158       123      3                        2   \n",
              "top          23834  city_103   Male  Has relevent experience   \n",
              "freq             1      4355  13221                    13792   \n",
              "\n",
              "       enrolled_university education_level major_discipline experience  \\\n",
              "count                18772           18698            16345      19093   \n",
              "unique                   3               5                6         22   \n",
              "top          no_enrollment        Graduate             STEM        >20   \n",
              "freq                 13817           11598            14492       3286   \n",
              "\n",
              "       company_size company_type last_new_job target  \n",
              "count         13220        13018        18735  19158  \n",
              "unique            8            6            6      2  \n",
              "top           50-99      Pvt Ltd            1  False  \n",
              "freq           3083         9817         8040  14381  "
            ]
          },
          "metadata": {},
          "output_type": "display_data"
        }
      ],
      "source": [
        "# describe categorical data\n",
        "display(df_train[cats].describe())"
      ]
    },
    {
      "cell_type": "markdown",
      "metadata": {
        "id": "LaZuK6iJa14n"
      },
      "source": [
        "Notes:<br>\n",
        "1. 'enrollee_id' have distinct value. It shows that this column is primary key. We will drop this column in data preprocessing.\n",
        "2. Based on freq/count, we can see many columns have imbalance data. We need to do grouping or SMOTE in data preprocessing later.\n",
        "3. This dataset have many missing values, we need to explore it too."
      ]
    },
    {
      "cell_type": "code",
      "execution_count": 365,
      "metadata": {
        "colab": {
          "base_uri": "https://localhost:8080/",
          "height": 301
        },
        "id": "FAe22q0nawPs",
        "outputId": "a1ee4ff8-eade-43c9-9a70-9e2ae0f316cf"
      },
      "outputs": [
        {
          "data": {
            "text/html": [
              "<div>\n",
              "<style scoped>\n",
              "    .dataframe tbody tr th:only-of-type {\n",
              "        vertical-align: middle;\n",
              "    }\n",
              "\n",
              "    .dataframe tbody tr th {\n",
              "        vertical-align: top;\n",
              "    }\n",
              "\n",
              "    .dataframe thead th {\n",
              "        text-align: right;\n",
              "    }\n",
              "</style>\n",
              "<table border=\"1\" class=\"dataframe\">\n",
              "  <thead>\n",
              "    <tr style=\"text-align: right;\">\n",
              "      <th></th>\n",
              "      <th>city_development_index</th>\n",
              "      <th>training_hours</th>\n",
              "    </tr>\n",
              "  </thead>\n",
              "  <tbody>\n",
              "    <tr>\n",
              "      <th>count</th>\n",
              "      <td>19158.000000</td>\n",
              "      <td>19158.000000</td>\n",
              "    </tr>\n",
              "    <tr>\n",
              "      <th>mean</th>\n",
              "      <td>0.828848</td>\n",
              "      <td>65.366896</td>\n",
              "    </tr>\n",
              "    <tr>\n",
              "      <th>std</th>\n",
              "      <td>0.123362</td>\n",
              "      <td>60.058462</td>\n",
              "    </tr>\n",
              "    <tr>\n",
              "      <th>min</th>\n",
              "      <td>0.448000</td>\n",
              "      <td>1.000000</td>\n",
              "    </tr>\n",
              "    <tr>\n",
              "      <th>25%</th>\n",
              "      <td>0.740000</td>\n",
              "      <td>23.000000</td>\n",
              "    </tr>\n",
              "    <tr>\n",
              "      <th>50%</th>\n",
              "      <td>0.903000</td>\n",
              "      <td>47.000000</td>\n",
              "    </tr>\n",
              "    <tr>\n",
              "      <th>75%</th>\n",
              "      <td>0.920000</td>\n",
              "      <td>88.000000</td>\n",
              "    </tr>\n",
              "    <tr>\n",
              "      <th>max</th>\n",
              "      <td>0.949000</td>\n",
              "      <td>336.000000</td>\n",
              "    </tr>\n",
              "  </tbody>\n",
              "</table>\n",
              "</div>"
            ],
            "text/plain": [
              "       city_development_index  training_hours\n",
              "count            19158.000000    19158.000000\n",
              "mean                 0.828848       65.366896\n",
              "std                  0.123362       60.058462\n",
              "min                  0.448000        1.000000\n",
              "25%                  0.740000       23.000000\n",
              "50%                  0.903000       47.000000\n",
              "75%                  0.920000       88.000000\n",
              "max                  0.949000      336.000000"
            ]
          },
          "metadata": {},
          "output_type": "display_data"
        }
      ],
      "source": [
        "# describe numerical data\n",
        "display(df_train[nums].describe())"
      ]
    },
    {
      "cell_type": "markdown",
      "metadata": {
        "id": "4um8jm3Fooft"
      },
      "source": [
        "Notes:\n",
        "1. There are no missing data in numerical columns\n",
        "2. There are differences between mean and median in both numerical columns, we may excpect to not see normal distribution\n",
        "3. In 'city_development_index' based on quartile value, we can see outlier in left side/negative side since min value is much lower than mean based on std difference\n",
        "4. In 'training_hours' based on quartile value, we can see outlier in right side/positive side since max value is much higher than mean based on std difference"
      ]
    },
    {
      "cell_type": "markdown",
      "metadata": {
        "id": "CpelamWNqH-n"
      },
      "source": [
        "### D. Duplicate Data"
      ]
    },
    {
      "cell_type": "code",
      "execution_count": 366,
      "metadata": {
        "colab": {
          "base_uri": "https://localhost:8080/"
        },
        "id": "66KM6sLGpE1a",
        "outputId": "9e56f5c6-5878-4ef3-834f-ff2941780a4f"
      },
      "outputs": [
        {
          "name": "stdout",
          "output_type": "stream",
          "text": [
            "Duplicate Rows: 0 row\n"
          ]
        }
      ],
      "source": [
        "# check duplicate data\n",
        "dup_perc = df_train.duplicated().sum()/df_train.shape[0]*100\n",
        "print(f\"Duplicate Rows: {df_train.duplicated().sum()} row\")"
      ]
    },
    {
      "cell_type": "markdown",
      "metadata": {
        "id": "FLfiHo5CegT_"
      },
      "source": [
        "Notes:\n",
        "1. Hooray!"
      ]
    },
    {
      "cell_type": "markdown",
      "metadata": {
        "id": "l503Rx2noqb0"
      },
      "source": [
        "### E. Missing Value"
      ]
    },
    {
      "cell_type": "code",
      "execution_count": 367,
      "metadata": {
        "colab": {
          "base_uri": "https://localhost:8080/",
          "height": 506
        },
        "id": "_geUYzdyoHFU",
        "outputId": "7cbb0f4f-918c-43c1-821e-b1cf9eab0b6b"
      },
      "outputs": [
        {
          "data": {
            "text/html": [
              "<div>\n",
              "<style scoped>\n",
              "    .dataframe tbody tr th:only-of-type {\n",
              "        vertical-align: middle;\n",
              "    }\n",
              "\n",
              "    .dataframe tbody tr th {\n",
              "        vertical-align: top;\n",
              "    }\n",
              "\n",
              "    .dataframe thead th {\n",
              "        text-align: right;\n",
              "    }\n",
              "</style>\n",
              "<table border=\"1\" class=\"dataframe\">\n",
              "  <thead>\n",
              "    <tr style=\"text-align: right;\">\n",
              "      <th></th>\n",
              "      <th>Missing Count</th>\n",
              "      <th>Missing %</th>\n",
              "    </tr>\n",
              "  </thead>\n",
              "  <tbody>\n",
              "    <tr>\n",
              "      <th>company_type</th>\n",
              "      <td>6140</td>\n",
              "      <td>32.05</td>\n",
              "    </tr>\n",
              "    <tr>\n",
              "      <th>company_size</th>\n",
              "      <td>5938</td>\n",
              "      <td>30.99</td>\n",
              "    </tr>\n",
              "    <tr>\n",
              "      <th>gender</th>\n",
              "      <td>4508</td>\n",
              "      <td>23.53</td>\n",
              "    </tr>\n",
              "    <tr>\n",
              "      <th>major_discipline</th>\n",
              "      <td>2813</td>\n",
              "      <td>14.68</td>\n",
              "    </tr>\n",
              "    <tr>\n",
              "      <th>education_level</th>\n",
              "      <td>460</td>\n",
              "      <td>2.40</td>\n",
              "    </tr>\n",
              "    <tr>\n",
              "      <th>last_new_job</th>\n",
              "      <td>423</td>\n",
              "      <td>2.21</td>\n",
              "    </tr>\n",
              "    <tr>\n",
              "      <th>enrolled_university</th>\n",
              "      <td>386</td>\n",
              "      <td>2.01</td>\n",
              "    </tr>\n",
              "    <tr>\n",
              "      <th>experience</th>\n",
              "      <td>65</td>\n",
              "      <td>0.34</td>\n",
              "    </tr>\n",
              "    <tr>\n",
              "      <th>enrollee_id</th>\n",
              "      <td>0</td>\n",
              "      <td>0.00</td>\n",
              "    </tr>\n",
              "    <tr>\n",
              "      <th>city</th>\n",
              "      <td>0</td>\n",
              "      <td>0.00</td>\n",
              "    </tr>\n",
              "    <tr>\n",
              "      <th>relevent_experience</th>\n",
              "      <td>0</td>\n",
              "      <td>0.00</td>\n",
              "    </tr>\n",
              "    <tr>\n",
              "      <th>city_development_index</th>\n",
              "      <td>0</td>\n",
              "      <td>0.00</td>\n",
              "    </tr>\n",
              "    <tr>\n",
              "      <th>training_hours</th>\n",
              "      <td>0</td>\n",
              "      <td>0.00</td>\n",
              "    </tr>\n",
              "    <tr>\n",
              "      <th>target</th>\n",
              "      <td>0</td>\n",
              "      <td>0.00</td>\n",
              "    </tr>\n",
              "  </tbody>\n",
              "</table>\n",
              "</div>"
            ],
            "text/plain": [
              "                        Missing Count  Missing %\n",
              "company_type                     6140      32.05\n",
              "company_size                     5938      30.99\n",
              "gender                           4508      23.53\n",
              "major_discipline                 2813      14.68\n",
              "education_level                   460       2.40\n",
              "last_new_job                      423       2.21\n",
              "enrolled_university               386       2.01\n",
              "experience                         65       0.34\n",
              "enrollee_id                         0       0.00\n",
              "city                                0       0.00\n",
              "relevent_experience                 0       0.00\n",
              "city_development_index              0       0.00\n",
              "training_hours                      0       0.00\n",
              "target                              0       0.00"
            ]
          },
          "metadata": {},
          "output_type": "display_data"
        },
        {
          "name": "stdout",
          "output_type": "stream",
          "text": [
            "Rows will be delete if we using dropna is 8955 rows or 53.26% of total train data\n"
          ]
        }
      ],
      "source": [
        "# check missing value\n",
        "miss_perc = df_train.isna().sum()/df_train.shape[0]*100\n",
        "miss = pd.DataFrame({'Missing Count': df_train.isna().sum(),\n",
        "                     'Missing %': np.round(miss_perc,2)}).sort_values('Missing %', ascending=False)\n",
        "display(miss)\n",
        "\n",
        "# check how many rows will be delete if we using dropna\n",
        "rows_if_dropna = df_train.dropna()\n",
        "print(f\"Rows will be delete if we using dropna is {rows_if_dropna.shape[0]} rows or {np.round(100 - rows_if_dropna.shape[0]/df_train.shape[0]*100,2)}% of total train data\")"
      ]
    },
    {
      "cell_type": "code",
      "execution_count": 368,
      "metadata": {
        "colab": {
          "base_uri": "https://localhost:8080/",
          "height": 216
        },
        "id": "zDUF0PhvnAmQ",
        "outputId": "d175e2ee-8621-4aa4-e544-ce04a9f0b8b9"
      },
      "outputs": [
        {
          "data": {
            "text/html": [
              "<div>\n",
              "<style scoped>\n",
              "    .dataframe tbody tr th:only-of-type {\n",
              "        vertical-align: middle;\n",
              "    }\n",
              "\n",
              "    .dataframe tbody tr th {\n",
              "        vertical-align: top;\n",
              "    }\n",
              "\n",
              "    .dataframe thead th {\n",
              "        text-align: right;\n",
              "    }\n",
              "</style>\n",
              "<table border=\"1\" class=\"dataframe\">\n",
              "  <thead>\n",
              "    <tr style=\"text-align: right;\">\n",
              "      <th></th>\n",
              "      <th>enrollee_id</th>\n",
              "      <th>city</th>\n",
              "      <th>city_development_index</th>\n",
              "      <th>gender</th>\n",
              "      <th>relevent_experience</th>\n",
              "      <th>enrolled_university</th>\n",
              "      <th>education_level</th>\n",
              "      <th>major_discipline</th>\n",
              "      <th>experience</th>\n",
              "      <th>company_size</th>\n",
              "      <th>company_type</th>\n",
              "      <th>last_new_job</th>\n",
              "      <th>training_hours</th>\n",
              "      <th>target</th>\n",
              "    </tr>\n",
              "  </thead>\n",
              "  <tbody>\n",
              "    <tr>\n",
              "      <th>13409</th>\n",
              "      <td>14157</td>\n",
              "      <td>city_160</td>\n",
              "      <td>0.920</td>\n",
              "      <td>Male</td>\n",
              "      <td>Has relevent experience</td>\n",
              "      <td>Full time course</td>\n",
              "      <td>NaN</td>\n",
              "      <td>NaN</td>\n",
              "      <td>15</td>\n",
              "      <td>NaN</td>\n",
              "      <td>NaN</td>\n",
              "      <td>1</td>\n",
              "      <td>119</td>\n",
              "      <td>False</td>\n",
              "    </tr>\n",
              "    <tr>\n",
              "      <th>2485</th>\n",
              "      <td>23678</td>\n",
              "      <td>city_165</td>\n",
              "      <td>0.903</td>\n",
              "      <td>NaN</td>\n",
              "      <td>Has relevent experience</td>\n",
              "      <td>no_enrollment</td>\n",
              "      <td>NaN</td>\n",
              "      <td>NaN</td>\n",
              "      <td>&gt;20</td>\n",
              "      <td>10/49</td>\n",
              "      <td>NaN</td>\n",
              "      <td>NaN</td>\n",
              "      <td>50</td>\n",
              "      <td>False</td>\n",
              "    </tr>\n",
              "    <tr>\n",
              "      <th>18133</th>\n",
              "      <td>31779</td>\n",
              "      <td>city_134</td>\n",
              "      <td>0.698</td>\n",
              "      <td>NaN</td>\n",
              "      <td>Has relevent experience</td>\n",
              "      <td>no_enrollment</td>\n",
              "      <td>Masters</td>\n",
              "      <td>STEM</td>\n",
              "      <td>6</td>\n",
              "      <td>NaN</td>\n",
              "      <td>NaN</td>\n",
              "      <td>NaN</td>\n",
              "      <td>36</td>\n",
              "      <td>False</td>\n",
              "    </tr>\n",
              "  </tbody>\n",
              "</table>\n",
              "</div>"
            ],
            "text/plain": [
              "      enrollee_id      city  city_development_index gender  \\\n",
              "13409       14157  city_160                   0.920   Male   \n",
              "2485        23678  city_165                   0.903    NaN   \n",
              "18133       31779  city_134                   0.698    NaN   \n",
              "\n",
              "           relevent_experience enrolled_university education_level  \\\n",
              "13409  Has relevent experience    Full time course             NaN   \n",
              "2485   Has relevent experience       no_enrollment             NaN   \n",
              "18133  Has relevent experience       no_enrollment         Masters   \n",
              "\n",
              "      major_discipline experience company_size company_type last_new_job  \\\n",
              "13409              NaN         15          NaN          NaN            1   \n",
              "2485               NaN        >20        10/49          NaN          NaN   \n",
              "18133             STEM          6          NaN          NaN          NaN   \n",
              "\n",
              "       training_hours  target  \n",
              "13409             119   False  \n",
              "2485               50   False  \n",
              "18133              36   False  "
            ]
          },
          "metadata": {},
          "output_type": "display_data"
        },
        {
          "name": "stdout",
          "output_type": "stream",
          "text": [
            "Rows with equal or more than 4 NaN value is 878 rows or 4.58% of total train data\n"
          ]
        }
      ],
      "source": [
        "# check rows with equal or more than 4 NaN values train data\n",
        "rows_with_many_nulls = df_train[df_train.isnull().sum(axis=1) >= 4]\n",
        "display(rows_with_many_nulls.sample(3))\n",
        "print(f\"Rows with equal or more than 4 NaN value is {rows_with_many_nulls.shape[0]} rows or {np.round(rows_with_many_nulls.shape[0]/df_train.shape[0]*100,2)}% of total train data\")"
      ]
    },
    {
      "cell_type": "markdown",
      "metadata": {},
      "source": [
        "Since we will imputate test data too, we need to check rows with equal or more than 4 NaN values in test data"
      ]
    },
    {
      "cell_type": "code",
      "execution_count": 369,
      "metadata": {},
      "outputs": [
        {
          "data": {
            "text/html": [
              "<div>\n",
              "<style scoped>\n",
              "    .dataframe tbody tr th:only-of-type {\n",
              "        vertical-align: middle;\n",
              "    }\n",
              "\n",
              "    .dataframe tbody tr th {\n",
              "        vertical-align: top;\n",
              "    }\n",
              "\n",
              "    .dataframe thead th {\n",
              "        text-align: right;\n",
              "    }\n",
              "</style>\n",
              "<table border=\"1\" class=\"dataframe\">\n",
              "  <thead>\n",
              "    <tr style=\"text-align: right;\">\n",
              "      <th></th>\n",
              "      <th>enrollee_id</th>\n",
              "      <th>city</th>\n",
              "      <th>city_development_index</th>\n",
              "      <th>gender</th>\n",
              "      <th>relevent_experience</th>\n",
              "      <th>enrolled_university</th>\n",
              "      <th>education_level</th>\n",
              "      <th>major_discipline</th>\n",
              "      <th>experience</th>\n",
              "      <th>company_size</th>\n",
              "      <th>company_type</th>\n",
              "      <th>last_new_job</th>\n",
              "      <th>training_hours</th>\n",
              "    </tr>\n",
              "  </thead>\n",
              "  <tbody>\n",
              "    <tr>\n",
              "      <th>761</th>\n",
              "      <td>13006</td>\n",
              "      <td>city_134</td>\n",
              "      <td>0.698</td>\n",
              "      <td>NaN</td>\n",
              "      <td>No relevent experience</td>\n",
              "      <td>no_enrollment</td>\n",
              "      <td>High School</td>\n",
              "      <td>NaN</td>\n",
              "      <td>4</td>\n",
              "      <td>NaN</td>\n",
              "      <td>NaN</td>\n",
              "      <td>never</td>\n",
              "      <td>48</td>\n",
              "    </tr>\n",
              "    <tr>\n",
              "      <th>1091</th>\n",
              "      <td>11339</td>\n",
              "      <td>city_114</td>\n",
              "      <td>0.926</td>\n",
              "      <td>NaN</td>\n",
              "      <td>No relevent experience</td>\n",
              "      <td>Full time course</td>\n",
              "      <td>High School</td>\n",
              "      <td>NaN</td>\n",
              "      <td>8</td>\n",
              "      <td>NaN</td>\n",
              "      <td>NaN</td>\n",
              "      <td>never</td>\n",
              "      <td>22</td>\n",
              "    </tr>\n",
              "    <tr>\n",
              "      <th>2074</th>\n",
              "      <td>23948</td>\n",
              "      <td>city_103</td>\n",
              "      <td>0.920</td>\n",
              "      <td>Male</td>\n",
              "      <td>No relevent experience</td>\n",
              "      <td>no_enrollment</td>\n",
              "      <td>NaN</td>\n",
              "      <td>NaN</td>\n",
              "      <td>3</td>\n",
              "      <td>NaN</td>\n",
              "      <td>NaN</td>\n",
              "      <td>NaN</td>\n",
              "      <td>13</td>\n",
              "    </tr>\n",
              "  </tbody>\n",
              "</table>\n",
              "</div>"
            ],
            "text/plain": [
              "      enrollee_id      city  city_development_index gender  \\\n",
              "761         13006  city_134                   0.698    NaN   \n",
              "1091        11339  city_114                   0.926    NaN   \n",
              "2074        23948  city_103                   0.920   Male   \n",
              "\n",
              "         relevent_experience enrolled_university education_level  \\\n",
              "761   No relevent experience       no_enrollment     High School   \n",
              "1091  No relevent experience    Full time course     High School   \n",
              "2074  No relevent experience       no_enrollment             NaN   \n",
              "\n",
              "     major_discipline experience company_size company_type last_new_job  \\\n",
              "761               NaN          4          NaN          NaN        never   \n",
              "1091              NaN          8          NaN          NaN        never   \n",
              "2074              NaN          3          NaN          NaN          NaN   \n",
              "\n",
              "      training_hours  \n",
              "761               48  \n",
              "1091              22  \n",
              "2074              13  "
            ]
          },
          "metadata": {},
          "output_type": "display_data"
        },
        {
          "name": "stdout",
          "output_type": "stream",
          "text": [
            "Rows with equal or more than 4 NaN value is 85 rows or 3.99% of total test data\n"
          ]
        }
      ],
      "source": [
        "# check rows with equal or more than 4 NaN values in test data\n",
        "rows_with_many_nulls = df_test[df_test.isnull().sum(axis=1) >= 4]\n",
        "display(rows_with_many_nulls.sample(3))\n",
        "print(f\"Rows with equal or more than 4 NaN value is {rows_with_many_nulls.shape[0]} rows or {np.round(rows_with_many_nulls.shape[0]/df_test.shape[0]*100,2)}% of total test data\")"
      ]
    },
    {
      "cell_type": "markdown",
      "metadata": {
        "id": "6gXU3rGEqAe_"
      },
      "source": [
        "Notes:\n",
        "1. There are so many (>50% total train data) that have rows with missing value. We cannot drop it since it will delete more than half of our data.\n",
        "2. We will imputation data using LGBM Clasifier for categorical column and LGBM Regresion for numerical column\n",
        "3. Before we imputate data with ML model, we will see in next section if major_discipline with NaN value can be replace with 'No Major' if education_level is below Graduate\n",
        "4. We will drop rows with equal or more than 4 null values since it have little proportion with total train data or test data (<5% total data). It will make ML model have better features for imputate missing value."
      ]
    },
    {
      "cell_type": "markdown",
      "metadata": {
        "id": "lGCmKQpXqkMv"
      },
      "source": [
        "### F. Value Count"
      ]
    },
    {
      "cell_type": "code",
      "execution_count": 370,
      "metadata": {
        "colab": {
          "base_uri": "https://localhost:8080/"
        },
        "id": "ilp9O3o4qqxj",
        "outputId": "4dfbd277-f783-47b8-c93f-76c350e31f23"
      },
      "outputs": [
        {
          "name": "stdout",
          "output_type": "stream",
          "text": [
            "Value count kolom enrollee_id:\n",
            "enrollee_id\n",
            "23834    1\n",
            "8949     1\n",
            "29725    1\n",
            "11561    1\n",
            "33241    1\n",
            "        ..\n",
            "29452    1\n",
            "699      1\n",
            "27107    1\n",
            "402      1\n",
            "28806    1\n",
            "Name: count, Length: 19158, dtype: int64\n",
            "\n",
            "Value count kolom city:\n",
            "city\n",
            "city_103    4355\n",
            "city_21     2702\n",
            "city_16     1533\n",
            "city_114    1336\n",
            "city_160     845\n",
            "            ... \n",
            "city_111       3\n",
            "city_129       3\n",
            "city_121       3\n",
            "city_140       1\n",
            "city_171       1\n",
            "Name: count, Length: 123, dtype: int64\n",
            "\n",
            "Value count kolom gender:\n",
            "gender\n",
            "Male      13221\n",
            "Female     1238\n",
            "Other       191\n",
            "Name: count, dtype: int64\n",
            "\n",
            "Value count kolom relevent_experience:\n",
            "relevent_experience\n",
            "Has relevent experience    13792\n",
            "No relevent experience      5366\n",
            "Name: count, dtype: int64\n",
            "\n",
            "Value count kolom enrolled_university:\n",
            "enrolled_university\n",
            "no_enrollment       13817\n",
            "Full time course     3757\n",
            "Part time course     1198\n",
            "Name: count, dtype: int64\n",
            "\n",
            "Value count kolom education_level:\n",
            "education_level\n",
            "Graduate          11598\n",
            "Masters            4361\n",
            "High School        2017\n",
            "Phd                 414\n",
            "Primary School      308\n",
            "Name: count, dtype: int64\n",
            "\n",
            "Value count kolom major_discipline:\n",
            "major_discipline\n",
            "STEM               14492\n",
            "Humanities           669\n",
            "Other                381\n",
            "Business Degree      327\n",
            "Arts                 253\n",
            "No Major             223\n",
            "Name: count, dtype: int64\n",
            "\n",
            "Value count kolom experience:\n",
            "experience\n",
            ">20    3286\n",
            "5      1430\n",
            "4      1403\n",
            "3      1354\n",
            "6      1216\n",
            "2      1127\n",
            "7      1028\n",
            "10      985\n",
            "9       980\n",
            "8       802\n",
            "15      686\n",
            "11      664\n",
            "14      586\n",
            "1       549\n",
            "<1      522\n",
            "16      508\n",
            "12      494\n",
            "13      399\n",
            "17      342\n",
            "19      304\n",
            "18      280\n",
            "20      148\n",
            "Name: count, dtype: int64\n",
            "\n",
            "Value count kolom company_size:\n",
            "company_size\n",
            "50-99        3083\n",
            "100-500      2571\n",
            "10000+       2019\n",
            "10/49        1471\n",
            "1000-4999    1328\n",
            "<10          1308\n",
            "500-999       877\n",
            "5000-9999     563\n",
            "Name: count, dtype: int64\n",
            "\n",
            "Value count kolom company_type:\n",
            "company_type\n",
            "Pvt Ltd                9817\n",
            "Funded Startup         1001\n",
            "Public Sector           955\n",
            "Early Stage Startup     603\n",
            "NGO                     521\n",
            "Other                   121\n",
            "Name: count, dtype: int64\n",
            "\n",
            "Value count kolom last_new_job:\n",
            "last_new_job\n",
            "1        8040\n",
            ">4       3290\n",
            "2        2900\n",
            "never    2452\n",
            "4        1029\n",
            "3        1024\n",
            "Name: count, dtype: int64\n",
            "\n",
            "Value count kolom target:\n",
            "target\n",
            "False    14381\n",
            "True      4777\n",
            "Name: count, dtype: int64\n",
            "\n"
          ]
        }
      ],
      "source": [
        "# categorical value count\n",
        "for col in cats:\n",
        "    print(f'''Value count kolom {col}:''')\n",
        "    print(df_train[col].value_counts())\n",
        "    print()"
      ]
    },
    {
      "cell_type": "markdown",
      "metadata": {
        "id": "ayOi4uK_fDKd"
      },
      "source": [
        "Notes:\n",
        "1. enrolle_id will be drop since it just unique identifiers.\n",
        "2. city will be drop since it has too many unique values (123 values). Moreover, city_development_index can convey more necessary information than city.\n",
        "3. We will change relevent_experience to relevant_experience and change dtype to boolean (True, False)\n",
        "3. We can grouping major_discipline value to STEM, Non-STEM, and No Major\n",
        "4. We can grouping experience to Early Career (<1-4 years), Mid Career (5-10 years), Senior Career (11-15 years), and High Experience (>15 Years)\n",
        "5. We can grouping company_size to Small Company (<100), Medium Company (100-999), Large Company (1000-9999), and Very Large Company (>10000)\n",
        "6. We will use One-Hot Encoding for gender (3 features), major_discipline (3 features), and company_type (6 features)\n",
        "7. We will use Label Endoding for relevent_experience, enrolled_university, education_level, experience, company_size, and last_new_job (6 features)\n",
        "8. We will get 3+3+6+6 = 18 categorical features for ML model."
      ]
    },
    {
      "cell_type": "code",
      "execution_count": 371,
      "metadata": {
        "colab": {
          "base_uri": "https://localhost:8080/"
        },
        "id": "HuJxe2xVqVin",
        "outputId": "968971a5-8ea9-4f54-d905-4384dfdf0c5d"
      },
      "outputs": [
        {
          "name": "stdout",
          "output_type": "stream",
          "text": [
            "Value count kolom city_development_index:\n",
            "city_development_index\n",
            "0.920    5200\n",
            "0.624    2702\n",
            "0.910    1533\n",
            "0.926    1336\n",
            "0.698     683\n",
            "         ... \n",
            "0.649       4\n",
            "0.807       4\n",
            "0.781       3\n",
            "0.625       3\n",
            "0.664       1\n",
            "Name: count, Length: 93, dtype: int64\n",
            "\n",
            "Value count kolom training_hours:\n",
            "training_hours\n",
            "28     329\n",
            "12     292\n",
            "18     291\n",
            "22     282\n",
            "50     279\n",
            "      ... \n",
            "266      6\n",
            "234      5\n",
            "272      5\n",
            "286      5\n",
            "238      4\n",
            "Name: count, Length: 241, dtype: int64\n",
            "\n"
          ]
        }
      ],
      "source": [
        "# numerical value count\n",
        "for col in nums:\n",
        "    print(f'''Value count kolom {col}:''')\n",
        "    print(df_train[col].value_counts())\n",
        "    print()"
      ]
    },
    {
      "cell_type": "markdown",
      "metadata": {
        "id": "LF_F7MU_5AQ2"
      },
      "source": [
        "Notes:\n",
        "1. We will have 1 numerical features if we want predict training_hours and we will have 2 numerical features if we want predict target\n",
        "2. Total we have 19-20 features to play along"
      ]
    },
    {
      "cell_type": "markdown",
      "metadata": {
        "id": "CE8OmeUZ6sCu"
      },
      "source": [
        "### Additional"
      ]
    },
    {
      "cell_type": "markdown",
      "metadata": {
        "id": "5q50Ih2dBbHO"
      },
      "source": [
        "From this dataset, logically, we can think about correlation between education_level and major_discipline:\n",
        "1. If education_level is below Graduate, then there is No Major in major_discipline\n",
        "2. If education_level is over High School, then there is ***no*** of No Major in major_discipline\n",
        "\n",
        "We need to check this!"
      ]
    },
    {
      "cell_type": "code",
      "execution_count": 372,
      "metadata": {
        "colab": {
          "base_uri": "https://localhost:8080/"
        },
        "id": "BdRsU5cL6u0x",
        "outputId": "7f7d1eb0-bfbc-4506-e21a-6f1f10b779a9"
      },
      "outputs": [
        {
          "name": "stdout",
          "output_type": "stream",
          "text": [
            "NaN values in major_discipline of employee with education_level below Graduate is 2325 values or 100.0%\n"
          ]
        }
      ],
      "source": [
        "# check if education_level below Graduate have No Major in major_discipline\n",
        "sum_na_below_grad = df_train[df_train['education_level'].isin(['High School','Primary School'])]['major_discipline'].isna().sum()\n",
        "total_below_grad = df_train[df_train['education_level'].isin(['High School','Primary School'])].shape[0]\n",
        "print(f\"NaN values in major_discipline of employee with education_level below Graduate is {sum_na_below_grad} values or {sum_na_below_grad/total_below_grad*100}%\")"
      ]
    },
    {
      "cell_type": "markdown",
      "metadata": {
        "id": "2R0d4oH0CjZl"
      },
      "source": [
        "This is correct! <br>If education_level is below Graduate, then there is No Major in major_discipline"
      ]
    },
    {
      "cell_type": "code",
      "execution_count": 373,
      "metadata": {
        "colab": {
          "base_uri": "https://localhost:8080/"
        },
        "id": "x5r0OfF58CfE",
        "outputId": "33b7b1d1-a6ea-4d9e-9d96-15b0de50f91f"
      },
      "outputs": [
        {
          "name": "stdout",
          "output_type": "stream",
          "text": [
            "No Major in major_discipline of employee with education_level over High School is 223 values or 1.36%\n"
          ]
        }
      ],
      "source": [
        "# check if education_level over High School have No Major in major_discipline\n",
        "sum_no_major_over_hs = df_train[(df_train['education_level'].isin(['Graduate','Masters','Phd']) & (df_train['major_discipline'] == 'No Major'))]['major_discipline'].count()\n",
        "total_over_hs = df_train[(df_train['education_level'].isin(['Graduate','Masters','Phd']))].shape[0]\n",
        "print(f\"No Major in major_discipline of employee with education_level over High School is {sum_no_major_over_hs} values or {np.round(sum_no_major_over_hs/total_over_hs*100,2)}%\")"
      ]
    },
    {
      "cell_type": "markdown",
      "metadata": {
        "id": "aRyMWNvYCqo9"
      },
      "source": [
        "This is wrong!\n",
        "<br>If the education level is above High School, then it doesn't make sense to have No Major in major_discipline. It shows that this discrepancy likely indicates incorrect or inconsistent data. To address this, we will replace the \"No Major\" entries with NaN values, allowing us to impute the missing information using ML model later. However, before proceeding, we need to assess whether this adjustment will impact our previous analysis."
      ]
    },
    {
      "cell_type": "code",
      "execution_count": 374,
      "metadata": {
        "colab": {
          "base_uri": "https://localhost:8080/"
        },
        "id": "ARjsW_Y0-Dkk",
        "outputId": "80ab2026-592d-4397-c105-d9616cee302f"
      },
      "outputs": [
        {
          "name": "stdout",
          "output_type": "stream",
          "text": [
            "Rows of education_level over High School with NaN Value before change: 28 rows\n",
            "Rows of education_level over High School with NaN Value after change: 251 rows\n",
            "\n",
            "Rows with equal pr more than 4 NaN value before change is 85 rows or 0.44% of total train data\n",
            "Rows with equal or more than 4 NaN value after change is 893 rows or 4.66% of total train data\n"
          ]
        }
      ],
      "source": [
        "# check if we change it major_discipline to NaN Values because we need to imputate it with ML\n",
        "# do this will change analysis above?\n",
        "df_exp = df_train.copy() # make a copy so original train data is not affected\n",
        "print(f\"Rows of education_level over High School with NaN Value before change: {df_exp.loc[(df_exp['education_level'].isin(['Graduate','Masters','Phd'])), 'major_discipline'].isna().sum()} rows\")\n",
        "df_exp.loc[(df_exp['education_level'].isin(['Graduate','Masters','Phd']) & (df_exp['major_discipline'] == 'No Major')), 'major_discipline'] = np.nan\n",
        "print(f\"Rows of education_level over High School with NaN Value after change: {df_exp.loc[(df_exp['education_level'].isin(['Graduate','Masters','Phd'])), 'major_discipline'].isna().sum()} rows\")\n",
        "\n",
        "print(\"\")\n",
        "\n",
        "# check rows with equal or more than 4 NaN values\n",
        "rows_with_many_nulls_exp = df_exp[df_exp.isnull().sum(axis=1) >= 4]\n",
        "print(f\"Rows with equal pr more than 4 NaN value before change is {rows_with_many_nulls.shape[0]} rows or {np.round(rows_with_many_nulls.shape[0]/df_train.shape[0]*100,2)}% of total train data\")\n",
        "print(f\"Rows with equal or more than 4 NaN value after change is {rows_with_many_nulls_exp.shape[0]} rows or {np.round(rows_with_many_nulls_exp.shape[0]/df_exp.shape[0]*100,2)}% of total train data\")"
      ]
    },
    {
      "cell_type": "markdown",
      "metadata": {
        "id": "GEbkAKJkDzqn"
      },
      "source": [
        "As shown above, rows with equal or more than 4 NaN values can still be drop since it have little proportion to total data (<5% total data) so this change is not alter our previous analysis"
      ]
    },
    {
      "cell_type": "markdown",
      "metadata": {
        "id": "PI64hdAArWdL"
      },
      "source": [
        "## Univariate Analysis\n"
      ]
    },
    {
      "cell_type": "code",
      "execution_count": 375,
      "metadata": {
        "colab": {
          "base_uri": "https://localhost:8080/",
          "height": 865
        },
        "id": "h-euSSreGA6M",
        "outputId": "d0195b82-0491-4deb-9480-97985693cd08"
      },
      "outputs": [
        {
          "data": {
            "image/png": "[encoded data removed]",
            "text/plain": [
              "<Figure size 1000x1000 with 4 Axes>"
            ]
          },
          "metadata": {},
          "output_type": "display_data"
        }
      ],
      "source": [
        "# KDE Plot and Boxplot for numerical columns\n",
        "fig = plt.figure(figsize=(10,10))\n",
        "gs = fig.add_gridspec(2,2)\n",
        "gs.update(wspace=0.35, hspace=0.005)\n",
        "\n",
        "ax0 = fig.add_subplot(gs[0, 0])\n",
        "ax1 = fig.add_subplot(gs[0, 1])\n",
        "ax2 = fig.add_subplot(gs[1, 0])\n",
        "ax3 = fig.add_subplot(gs[1, 1])\n",
        "\n",
        "# ax0 - KDE Plot - CDI\n",
        "ax0.grid(color='gray', ls=':', axis='y', zorder=0, dashes=(1,10))\n",
        "ax0.text(0.45, 13, 'City Development Index', size=14, weight='bold')\n",
        "sns.kdeplot(df_train[nums[0]], ax=ax0, color=blue, shade=True)\n",
        "\n",
        "ax0.set_xticks([])\n",
        "ax0.set_ylabel('')\n",
        "ax0.set_xlabel('')\n",
        "\n",
        "# ax1 - KDE Plot - Training Hours\n",
        "ax1.grid(color='gray', ls=':', axis='y', zorder=0, dashes=(1,10))\n",
        "ax1.text(80, 0.0132, 'Training Hours', size=14, weight='bold')\n",
        "sns.kdeplot(df_train[nums[1]], ax=ax1, color=green, shade=True)\n",
        "\n",
        "ax1.yaxis.tick_right()\n",
        "ax1.set_xticks([])\n",
        "ax1.set_ylabel('')\n",
        "ax1.set_xlabel('')\n",
        "\n",
        "# ax2 - Box Plot - CDI\n",
        "sns.boxplot(x=df_train[nums[0]], ax=ax2, color=blue)\n",
        "\n",
        "ax2.xaxis.set_major_locator(mtick.MultipleLocator(0.1))\n",
        "ax2.set_xlim(0.4,1)\n",
        "ax2.set_ylabel('')\n",
        "ax2.set_xlabel('')\n",
        "\n",
        "# ax3 - Box Plot - Training Hours\n",
        "sns.boxplot(x=df_train[nums[1]], ax=ax3, color=green)\n",
        "\n",
        "ax3.xaxis.set_major_locator(mtick.MultipleLocator(50))\n",
        "ax3.set_ylabel('')\n",
        "ax3.set_xlabel('')\n",
        "\n",
        "plt.show()"
      ]
    },
    {
      "cell_type": "markdown",
      "metadata": {
        "id": "UhvBBPzBHxZL"
      },
      "source": [
        "Notes:\n",
        "1. city_development_index have multimodal distribution, it may need grouping from 0.4 to 1.0 by interval 0.1.\n",
        "2. Only one outlier detected by IQR in city_development_index, we can easily drop it\n",
        "2. training_hours have positively-skewed distribution, we can use log-transformation for feature transformation\n",
        "3. There are so many outlier in training_hours, we need to check it further after apply log-transformation"
      ]
    },
    {
      "cell_type": "code",
      "execution_count": 376,
      "metadata": {},
      "outputs": [
        {
          "data": {
            "text/plain": [
              "Text(0.5, 0, '')"
            ]
          },
          "execution_count": 376,
          "metadata": {},
          "output_type": "execute_result"
        },
        {
          "data": {
            "image/png": "[encoded data removed]",
            "text/plain": [
              "<Figure size 1000x500 with 3 Axes>"
            ]
          },
          "metadata": {},
          "output_type": "display_data"
        }
      ],
      "source": [
        "# show plot if City Development index is grouping and Training Hours is log-transformation\n",
        "fig = plt.figure(figsize=(10,5))\n",
        "gs = fig.add_gridspec(2,2)\n",
        "# gs.update(wspace=0.35, hspace=0.5)\n",
        "\n",
        "ax0 = fig.add_subplot(gs[:, 0])\n",
        "ax1 = fig.add_subplot(gs[0, 1])\n",
        "ax2 = fig.add_subplot(gs[1, 1])\n",
        "\n",
        "# ax0 - CDI Grouping\n",
        "ax0.grid(color='gray', ls=':', axis='y', zorder=0, dashes=(1,10))\n",
        "ax0.text(2, 11000, 'City Development Index Grouping', size=14, weight='bold', horizontalalignment = 'center')\n",
        "df = df_train[nums[0]].apply(lambda x: '<=0.6' if x <= 0.6\n",
        "                             else '0.6-0.7' if x <= 0.7\n",
        "                             else '0.7-0.8' if x <= 0.8\n",
        "                             else '0.8-0.9' if x <= 0.9\n",
        "                             else np.nan if pd.isna(x)\n",
        "                             else '0.9-1.0')\n",
        "sns.countplot(x=df, ax=ax0, palette=[blue], order = ['<=0.6','0.6-0.7','0.7-0.8','0.8-0.9','0.9-1.0'])\n",
        "\n",
        "ax0.yaxis.set_major_locator(mtick.MultipleLocator(2000))\n",
        "ax0.yaxis.set_major_formatter(mtick.FuncFormatter(thousands_formatter))\n",
        "ax0.set_ylabel('')\n",
        "ax0.set_xlabel('')\n",
        "ax0.set_ylim(0,10000)\n",
        "\n",
        "# ax1 - Training Hours Log Transformation\n",
        "ax1.grid(color='gray', ls=':', axis='y', zorder=0, dashes=(1,10))\n",
        "ax1.text(3, 0.61, 'Training Hours Log Transformation', size=14, weight='bold', horizontalalignment = 'center')\n",
        "df = df_train[nums[1]].apply(lambda x: np.log1p(x)) # log1p to avoid log(0)\n",
        "sns.kdeplot(df, ax=ax1, color=green, shade=True)\n",
        "\n",
        "ax1.set_xticks([])\n",
        "ax1.yaxis.set_major_locator(mtick.MultipleLocator(0.1))\n",
        "ax1.set_ylabel('')\n",
        "ax1.set_xlabel('')\n",
        "ax1.set_ylim(0,0.5)\n",
        "\n",
        "# ax3 - Box Plot - Training Hours Log Transformation\n",
        "df = df_train[nums[1]].apply(lambda x: np.log1p(x)) # log1p to avoid log(0)\n",
        "sns.boxplot(x=df, ax=ax2, color=green)\n",
        "\n",
        "ax2.set_xlim(0,6)\n",
        "ax2.set_ylabel('')\n",
        "ax2.set_xlabel('')"
      ]
    },
    {
      "cell_type": "markdown",
      "metadata": {},
      "source": [
        "Notes:\n",
        "1. It is better to using grouping in city_development_index since it have multimodal distribution. Each 'modal' may have some different characteristics with each other. We will using Label Encoding for this.\n",
        "2. training_hours give approximately normal distribution after log transformation. We need to use this transformation.\n",
        "3. Remove outliers from training_hours using IQR method.\n"
      ]
    },
    {
      "cell_type": "code",
      "execution_count": 377,
      "metadata": {
        "colab": {
          "base_uri": "https://localhost:8080/",
          "height": 940
        },
        "id": "efWM-SJ-tDE3",
        "outputId": "f14d05ee-43f7-42d1-8192-3edc7cc03727"
      },
      "outputs": [
        {
          "data": {
            "image/png": "[encoded data removed]",
            "text/plain": [
              "<Figure size 1500x1100 with 6 Axes>"
            ]
          },
          "metadata": {},
          "output_type": "display_data"
        }
      ],
      "source": [
        "# make new categorical column to visualize, we don't check column that we don't use later\n",
        "cats2 = cats[2:].copy() # drop enrollee_id and city\n",
        "\n",
        "# Count Plot for categorical columns\n",
        "fig = plt.figure(figsize=(15,11))\n",
        "gs = fig.add_gridspec(3,2)\n",
        "gs.update(wspace=0.1, hspace=0.35)\n",
        "\n",
        "ax0 = fig.add_subplot(gs[0, 0])\n",
        "ax1 = fig.add_subplot(gs[0, 1])\n",
        "ax2 = fig.add_subplot(gs[1, 0])\n",
        "ax3 = fig.add_subplot(gs[1, 1])\n",
        "ax4 = fig.add_subplot(gs[2, 0])\n",
        "ax5 = fig.add_subplot(gs[2, 1])\n",
        "\n",
        "# ax0 - Count Plot - Gender\n",
        "ax0.grid(color='gray', ls=':', axis='y', zorder=0, dashes=(1,10))\n",
        "ax0.text(1, 16000, 'Gender', size=14, weight='bold', horizontalalignment = 'center')\n",
        "sns.countplot(x=df_train[cats2[0]], ax=ax0, palette=[blue,green,red])\n",
        "\n",
        "ax0.yaxis.set_major_locator(mtick.MultipleLocator(2000))\n",
        "ax0.yaxis.set_major_formatter(mtick.FuncFormatter(thousands_formatter))\n",
        "ax0.set_ylabel('')\n",
        "ax0.set_xlabel('')\n",
        "ax0.set_ylim(0,14500)\n",
        "\n",
        "# ax1 - Count Plot - Relevent Experience\n",
        "ax1.grid(color='gray', ls=':', axis='y', zorder=0, dashes=(1,10))\n",
        "ax1.text(0.5, 16000, 'Relevant Experience', size=14, weight='bold', horizontalalignment = 'center')\n",
        "df = df_train[cats2[1]].apply(lambda x: True if x == \"Has relevent experience\" \n",
        "                              else np.nan if pd.isna(x) else False)\n",
        "sns.countplot(x=df, ax=ax1, palette=[blue,green,red], order=df.value_counts().index)\n",
        "\n",
        "ax1.yaxis.set_major_formatter(mtick.FuncFormatter(thousands_formatter))\n",
        "ax1.set_ylabel('')\n",
        "ax1.set_xlabel('')\n",
        "ax1.set_ylim(0,14500)\n",
        "# ax1.set_yticklabels([])\n",
        "\n",
        "# ax2 - Count Plot - Enrolled University\n",
        "ax2.grid(color='gray', ls=':', axis='y', zorder=0, dashes=(1,10))\n",
        "ax2.text(1, 16000, 'Enrolled University', size=14, weight='bold', horizontalalignment = 'center')\n",
        "df = df_train[cats2[2]].apply(lambda x: \"No Enroll\" if x == \"no_enrollment\"\n",
        "                              else \"Full Time\" if x == \"Full time course\" \n",
        "                              else np.nan if pd.isna(x) else \"Part Time\")\n",
        "sns.countplot(x=df, ax=ax2, palette=[blue,green,red], order=df.value_counts().index)\n",
        "\n",
        "ax2.yaxis.set_major_formatter(mtick.FuncFormatter(thousands_formatter))\n",
        "ax2.set_ylabel('')\n",
        "ax2.set_xlabel('')\n",
        "ax2.set_ylim(0,14500)\n",
        "\n",
        "# ax3 - Count Plot - Major Discipline\n",
        "ax3.grid(color='gray', ls=':', axis='y', zorder=0, dashes=(1,10))\n",
        "ax3.text(1, 16000, 'Major Discipline', size=14, weight='bold', horizontalalignment = 'center')\n",
        "df = df_train[cats2[3:5]]\n",
        "df[cats2[4]] = df_train[cats2[4]].apply(lambda x: \"STEM\" if x == \"STEM\"\n",
        "                              else \"No Major\" if x == \"No Major\" \n",
        "                              else np.nan if pd.isna(x) else \"Non-STEM\")\n",
        "df[cats2[4]] = np.where((df[cats2[3]].isin(['Graduate', 'Masters'])) & (df[cats2[4]] == 'No Major'), np.nan, \n",
        "                        np.where((df[cats2[3]].isin(['Primary School', 'High School'])) & (df[cats2[4]].isnull()),'No Major',df[cats2[4]]))\n",
        "df = df[cats2[4]]\n",
        "sns.countplot(x=df, ax=ax3, palette=[blue,green,red], order=df.value_counts().index)\n",
        "\n",
        "ax3.yaxis.set_major_formatter(mtick.FuncFormatter(thousands_formatter))\n",
        "ax3.set_ylabel('')\n",
        "ax3.set_xlabel('')\n",
        "ax3.set_ylim(0,14500)\n",
        "# ax3.set_yticklabels([])\n",
        "\n",
        "# ax4 - Count Plot - Education Level\n",
        "ax4.grid(color='gray', ls=':', axis='y', zorder=0, dashes=(1,10))\n",
        "ax4.text(2, 16000, 'Education Level', size=14, weight='bold', horizontalalignment = 'center')\n",
        "sns.countplot(x=df_train[cats2[3]], ax=ax4, palette=[blue,green,red], order=df_train[cats2[3]].value_counts().index)\n",
        "\n",
        "ax4.yaxis.set_major_formatter(mtick.FuncFormatter(thousands_formatter))\n",
        "ax4.set_ylabel('')\n",
        "ax4.set_xlabel('')\n",
        "ax4.set_ylim(0,14500)\n",
        "\n",
        "# ax5 - Count Plot - Experience\n",
        "ax5.grid(color='gray', ls=':', axis='y', zorder=0, dashes=(1,10))\n",
        "ax5.text(1.5, 16000, 'Experience', size=14, weight='bold', horizontalalignment = 'center')\n",
        "df = df_train[cats2[5]].apply(lambda x: \"Early Career\" if x in ['<1','1','2','3','4']\n",
        "                              else \"Mid Career\" if x in ['5','6','7','8','9','10']\n",
        "                              else \"Senior Career\" if x in ['11','12','13','14','15']\n",
        "                              else np.nan if pd.isna(x) else \"High Experience\")\n",
        "sns.countplot(x=df, ax=ax5, palette=[blue,green,red], order=df.value_counts().index)\n",
        "\n",
        "ax5.yaxis.set_major_formatter(mtick.FuncFormatter(thousands_formatter))\n",
        "ax5.set_ylabel('')\n",
        "ax5.set_xlabel('')\n",
        "ax5.set_ylim(0,14500)\n",
        "# ax5.set_yticklabels([])\n",
        "\n",
        "plt.show()"
      ]
    },
    {
      "cell_type": "markdown",
      "metadata": {},
      "source": [
        "Notes:\n",
        "1. gender, enrolled_university, and major_discipline have imbalance dataset.\n",
        "2. major_discipline has been imputate using basic logic (check General Exploration > Additional).\n",
        "3. Grouping experience make it more balance.\n",
        "4. We can see that many participants have relevant experience in data science before, have math or programming foundation in STEM, or have major as graduate and above.\n",
        "5. Many participants have no enrolled university so they can focus more in courses than split their focus to another education.\n",
        "6. We can see many participants have mid or early career in experience, it makes sense since this stage is where people consider to improve quality and company want atleast their employee have experience.\n",
        "7. Male participants is biggest value in gender."
      ]
    },
    {
      "cell_type": "code",
      "execution_count": 378,
      "metadata": {
        "colab": {
          "base_uri": "https://localhost:8080/",
          "height": 954
        },
        "id": "yXqqKfNZGpz_",
        "outputId": "ff3e1b26-52f8-477a-badc-f2c1c0203c29"
      },
      "outputs": [
        {
          "data": {
            "image/png": "[encoded data removed]",
            "text/plain": [
              "<Figure size 1500x1100 with 4 Axes>"
            ]
          },
          "metadata": {},
          "output_type": "display_data"
        }
      ],
      "source": [
        "# Count Plot for categorical columns\n",
        "fig = plt.figure(figsize=(15,11))\n",
        "gs = fig.add_gridspec(2,2)\n",
        "gs.update(wspace=0.1, hspace=0.35)\n",
        "\n",
        "ax0 = fig.add_subplot(gs[0, 0])\n",
        "ax1 = fig.add_subplot(gs[0, 1])\n",
        "ax2 = fig.add_subplot(gs[1, 0])\n",
        "ax3 = fig.add_subplot(gs[1, 1])\n",
        "\n",
        "# ax0 - Count Plot - Company Size\n",
        "ax0.grid(color='gray', ls=':', axis='y', zorder=0, dashes=(1,10))\n",
        "ax0.text(1.5, 16000, 'Company Size', size=14, weight='bold', horizontalalignment = 'center')\n",
        "df = df_train[cats2[6]].apply(lambda x: \"Medium\" if x in ['100-500', '500-999']\n",
        "                              else \"Large\" if x in ['1000-4999', '5000-9999']\n",
        "                              else \"Very Large\" if x in ['10000+'] \n",
        "                              else np.nan if pd.isna(x) else \"Small\")\n",
        "sns.countplot(x=df, ax=ax0, palette=[blue,green,red], order=df.value_counts().index)\n",
        "\n",
        "ax0.yaxis.set_major_formatter(mtick.FuncFormatter(thousands_formatter))\n",
        "ax0.set_ylabel('')\n",
        "ax0.set_xlabel('')\n",
        "ax0.set_ylim(0,14500)\n",
        "\n",
        "# ax1 - Count Plot - Company Type\n",
        "ax1.grid(color='gray', ls=':', axis='y', zorder=0, dashes=(1,10))\n",
        "ax1.text(2.5, 16000, 'Company Type', size=14, weight='bold', horizontalalignment = 'center')\n",
        "df = df_train[cats2[7]].apply(lambda x: \"Early Startup\" if x == \"Early Stage Startup\" else x)\n",
        "sns.countplot(x=df, ax=ax1, palette=[blue,green,red], order=df.value_counts().index)\n",
        "\n",
        "ax1.yaxis.set_major_formatter(mtick.FuncFormatter(thousands_formatter))\n",
        "ax1.set_ylabel('')\n",
        "ax1.set_xlabel('')\n",
        "ax1.set_ylim(0,14500)\n",
        "ax1.set_xticklabels(labels=df.value_counts().index ,rotation=30)\n",
        "# ax1.set_yticklabels([])\n",
        "\n",
        "# ax2 - Count Plot - Last New Job\n",
        "ax2.grid(color='gray', ls=':', axis='y', zorder=0, dashes=(1,10))\n",
        "ax2.text(2.5, 15000, 'Last New Job', size=14, weight='bold', horizontalalignment = 'center')\n",
        "df = df_train[cats2[8]]\n",
        "sns.countplot(x=df, ax=ax2, palette=[blue,green,red], order=df.value_counts().index)\n",
        "\n",
        "ax2.yaxis.set_major_formatter(mtick.FuncFormatter(thousands_formatter))\n",
        "ax2.set_ylabel('')\n",
        "ax2.set_xlabel('')\n",
        "ax2.set_ylim(0,14500)\n",
        "\n",
        "# ax3 - Count Plot - Target\n",
        "ax3.grid(color='gray', ls=':', axis='y', zorder=0, dashes=(1,10))\n",
        "ax3.text(0.5, 15000, 'Target', size=14, weight='bold', horizontalalignment = 'center')\n",
        "df = df_train[cats2[9]]\n",
        "sns.countplot(x=df, ax=ax3, palette=[blue,green,red], order=df.value_counts().index)\n",
        "\n",
        "ax3.yaxis.set_major_formatter(mtick.FuncFormatter(thousands_formatter))\n",
        "ax3.set_ylabel('')\n",
        "ax3.set_xlabel('')\n",
        "ax3.set_ylim(0,14500)\n",
        "# ax3.set_yticklabels([])\n",
        "\n",
        "plt.show()"
      ]
    },
    {
      "cell_type": "markdown",
      "metadata": {},
      "source": [
        "Notes:\n",
        "1. Largest participants in company_size is small. This makes sense since company want to get bigger by attend their employee to data science courses.\n",
        "2. Private limited company is the biggest in company_type. They have more resource to supply their employee for improving quality using data science courses.\n",
        "3. Last new job in 1 years is the highest value. Are this company want their new employee to get started with new knowledge? In other hand, senior employee is also in number two, are this company wanna put resource on their 'loyal' employee?\n",
        "4. Good news is more participants not leave their company after courses. It makes imbalance dataset and we need to solve it using SMOTE."
      ]
    },
    {
      "cell_type": "markdown",
      "metadata": {
        "id": "aroF_Xbwraj5"
      },
      "source": [
        "## Multivariate Analysis"
      ]
    },
    {
      "cell_type": "markdown",
      "metadata": {},
      "source": [
        "### Target"
      ]
    },
    {
      "cell_type": "markdown",
      "metadata": {},
      "source": [
        "#### city_development_index vs target"
      ]
    },
    {
      "cell_type": "markdown",
      "metadata": {},
      "source": [
        "We want to check if there is correlation between city_development_index with target"
      ]
    },
    {
      "cell_type": "code",
      "execution_count": 379,
      "metadata": {},
      "outputs": [
        {
          "data": {
            "text/html": [
              "<div>\n",
              "<style scoped>\n",
              "    .dataframe tbody tr th:only-of-type {\n",
              "        vertical-align: middle;\n",
              "    }\n",
              "\n",
              "    .dataframe tbody tr th {\n",
              "        vertical-align: top;\n",
              "    }\n",
              "\n",
              "    .dataframe thead th {\n",
              "        text-align: right;\n",
              "    }\n",
              "</style>\n",
              "<table border=\"1\" class=\"dataframe\">\n",
              "  <thead>\n",
              "    <tr style=\"text-align: right;\">\n",
              "      <th>target</th>\n",
              "      <th>city_development_index</th>\n",
              "      <th>Not Looking for Job Change</th>\n",
              "      <th>Looking for Job Change</th>\n",
              "      <th>Total</th>\n",
              "      <th>Looking for Job Change Percentage</th>\n",
              "    </tr>\n",
              "  </thead>\n",
              "  <tbody>\n",
              "    <tr>\n",
              "      <th>0</th>\n",
              "      <td>&lt;=0.6</td>\n",
              "      <td>305</td>\n",
              "      <td>420</td>\n",
              "      <td>725</td>\n",
              "      <td>57.931034</td>\n",
              "    </tr>\n",
              "    <tr>\n",
              "      <th>1</th>\n",
              "      <td>0.6-0.7</td>\n",
              "      <td>1927</td>\n",
              "      <td>1904</td>\n",
              "      <td>3831</td>\n",
              "      <td>49.699817</td>\n",
              "    </tr>\n",
              "    <tr>\n",
              "      <th>2</th>\n",
              "      <td>0.7-0.8</td>\n",
              "      <td>1062</td>\n",
              "      <td>348</td>\n",
              "      <td>1410</td>\n",
              "      <td>24.680851</td>\n",
              "    </tr>\n",
              "    <tr>\n",
              "      <th>3</th>\n",
              "      <td>0.8-0.9</td>\n",
              "      <td>3067</td>\n",
              "      <td>482</td>\n",
              "      <td>3549</td>\n",
              "      <td>13.581291</td>\n",
              "    </tr>\n",
              "    <tr>\n",
              "      <th>4</th>\n",
              "      <td>0.9-1.0</td>\n",
              "      <td>8020</td>\n",
              "      <td>1623</td>\n",
              "      <td>9643</td>\n",
              "      <td>16.830862</td>\n",
              "    </tr>\n",
              "  </tbody>\n",
              "</table>\n",
              "</div>"
            ],
            "text/plain": [
              "target city_development_index  Not Looking for Job Change  \\\n",
              "0                       <=0.6                         305   \n",
              "1                     0.6-0.7                        1927   \n",
              "2                     0.7-0.8                        1062   \n",
              "3                     0.8-0.9                        3067   \n",
              "4                     0.9-1.0                        8020   \n",
              "\n",
              "target  Looking for Job Change  Total  Looking for Job Change Percentage  \n",
              "0                          420    725                          57.931034  \n",
              "1                         1904   3831                          49.699817  \n",
              "2                          348   1410                          24.680851  \n",
              "3                          482   3549                          13.581291  \n",
              "4                         1623   9643                          16.830862  "
            ]
          },
          "metadata": {},
          "output_type": "display_data"
        }
      ],
      "source": [
        "# make new dataframe for pivot table\n",
        "df = df_train[['city_development_index','target']].copy()\n",
        "# grouping  city_development_index\n",
        "df['city_development_index'] = df['city_development_index'].apply(lambda x: '<=0.6' if x <= 0.6\n",
        "                                                                    else '0.6-0.7' if x <= 0.7\n",
        "                                                                    else '0.7-0.8' if x <= 0.8\n",
        "                                                                    else '0.8-0.9' if x <= 0.9\n",
        "                                                                    else np.nan if pd.isna(x)\n",
        "                                                                    else '0.9-1.0')\n",
        "# pivot table\n",
        "dfp = df.pivot_table(index='city_development_index', columns='target', aggfunc=len).reset_index().rename(columns={0:'Not Looking for Job Change', 1:'Looking for Job Change'})\n",
        "\n",
        "# make new columns for total and percentage\n",
        "dfp['Total'] = dfp['Looking for Job Change'] + dfp['Not Looking for Job Change']\n",
        "dfp['Looking for Job Change Percentage'] = dfp['Looking for Job Change'] / dfp['Total'] * 100\n",
        "\n",
        "# sort the dataframe\n",
        "dfp = dfp.set_index('city_development_index').loc[['<=0.6','0.6-0.7','0.7-0.8','0.8-0.9','0.9-1.0']].reset_index()\n",
        "display(dfp)"
      ]
    },
    {
      "cell_type": "code",
      "execution_count": 380,
      "metadata": {},
      "outputs": [
        {
          "data": {
            "text/plain": [
              "Text(0, 0.5, '')"
            ]
          },
          "execution_count": 380,
          "metadata": {},
          "output_type": "execute_result"
        },
        {
          "data": {
            "image/png": "[encoded data removed]",
            "text/plain": [
              "<Figure size 1000x500 with 1 Axes>"
            ]
          },
          "metadata": {},
          "output_type": "display_data"
        }
      ],
      "source": [
        "# line plot for dataframe above\n",
        "fig = plt.figure(figsize=(10,5))\n",
        "\n",
        "ax = sns.lineplot(data=dfp, x='city_development_index', y='Looking for Job Change Percentage', marker='o', color=blue)\n",
        "ax.grid(color='gray', ls=':', axis='y', zorder=0, dashes=(1,10))\n",
        "ax.text(2, 65, 'How many participants want to looking for new job?', size=14, weight='bold', horizontalalignment = 'center')\n",
        "ax.text(2, 62.5, 'based on their City Development Index', size=10, horizontalalignment = 'center')\n",
        "\n",
        "\n",
        "ax.yaxis.set_major_formatter(mtick.FuncFormatter(percentage_formatter))\n",
        "ax.set_xlabel('City Development Index', size=10, weight='bold')\n",
        "ax.set_ylabel('')\n"
      ]
    },
    {
      "cell_type": "markdown",
      "metadata": {},
      "source": [
        "Notes:\n",
        "1. City with low city_development_index tend to have higher employee that wants to looking for new job. It makes sense since employee want to search better city for working.\n",
        "2. Company need to move their office to better city if they want to get better result."
      ]
    },
    {
      "cell_type": "markdown",
      "metadata": {},
      "source": [
        "### Training Hours"
      ]
    },
    {
      "cell_type": "code",
      "execution_count": 381,
      "metadata": {},
      "outputs": [
        {
          "data": {
            "text/html": [
              "<div>\n",
              "<style scoped>\n",
              "    .dataframe tbody tr th:only-of-type {\n",
              "        vertical-align: middle;\n",
              "    }\n",
              "\n",
              "    .dataframe tbody tr th {\n",
              "        vertical-align: top;\n",
              "    }\n",
              "\n",
              "    .dataframe thead th {\n",
              "        text-align: right;\n",
              "    }\n",
              "</style>\n",
              "<table border=\"1\" class=\"dataframe\">\n",
              "  <thead>\n",
              "    <tr style=\"text-align: right;\">\n",
              "      <th></th>\n",
              "      <th>relevent_experience</th>\n",
              "      <th>enrolled_university</th>\n",
              "      <th>education_level</th>\n",
              "      <th>major_discipline</th>\n",
              "      <th>training_hours</th>\n",
              "    </tr>\n",
              "  </thead>\n",
              "  <tbody>\n",
              "    <tr>\n",
              "      <th>0</th>\n",
              "      <td>Has relevent experience</td>\n",
              "      <td>No Enroll</td>\n",
              "      <td>Graduate</td>\n",
              "      <td>STEM</td>\n",
              "      <td>36</td>\n",
              "    </tr>\n",
              "    <tr>\n",
              "      <th>1</th>\n",
              "      <td>No relevent experience</td>\n",
              "      <td>No Enroll</td>\n",
              "      <td>Graduate</td>\n",
              "      <td>STEM</td>\n",
              "      <td>47</td>\n",
              "    </tr>\n",
              "    <tr>\n",
              "      <th>2</th>\n",
              "      <td>No relevent experience</td>\n",
              "      <td>Full Time</td>\n",
              "      <td>Graduate</td>\n",
              "      <td>STEM</td>\n",
              "      <td>83</td>\n",
              "    </tr>\n",
              "    <tr>\n",
              "      <th>3</th>\n",
              "      <td>No relevent experience</td>\n",
              "      <td>NaN</td>\n",
              "      <td>Graduate</td>\n",
              "      <td>Non-STEM</td>\n",
              "      <td>52</td>\n",
              "    </tr>\n",
              "    <tr>\n",
              "      <th>4</th>\n",
              "      <td>Has relevent experience</td>\n",
              "      <td>No Enroll</td>\n",
              "      <td>Masters</td>\n",
              "      <td>STEM</td>\n",
              "      <td>8</td>\n",
              "    </tr>\n",
              "    <tr>\n",
              "      <th>...</th>\n",
              "      <td>...</td>\n",
              "      <td>...</td>\n",
              "      <td>...</td>\n",
              "      <td>...</td>\n",
              "      <td>...</td>\n",
              "    </tr>\n",
              "    <tr>\n",
              "      <th>19153</th>\n",
              "      <td>No relevent experience</td>\n",
              "      <td>No Enroll</td>\n",
              "      <td>Graduate</td>\n",
              "      <td>Non-STEM</td>\n",
              "      <td>42</td>\n",
              "    </tr>\n",
              "    <tr>\n",
              "      <th>19154</th>\n",
              "      <td>Has relevent experience</td>\n",
              "      <td>No Enroll</td>\n",
              "      <td>Graduate</td>\n",
              "      <td>STEM</td>\n",
              "      <td>52</td>\n",
              "    </tr>\n",
              "    <tr>\n",
              "      <th>19155</th>\n",
              "      <td>Has relevent experience</td>\n",
              "      <td>No Enroll</td>\n",
              "      <td>Graduate</td>\n",
              "      <td>STEM</td>\n",
              "      <td>44</td>\n",
              "    </tr>\n",
              "    <tr>\n",
              "      <th>19156</th>\n",
              "      <td>Has relevent experience</td>\n",
              "      <td>No Enroll</td>\n",
              "      <td>High School</td>\n",
              "      <td>NaN</td>\n",
              "      <td>97</td>\n",
              "    </tr>\n",
              "    <tr>\n",
              "      <th>19157</th>\n",
              "      <td>No relevent experience</td>\n",
              "      <td>No Enroll</td>\n",
              "      <td>Primary School</td>\n",
              "      <td>NaN</td>\n",
              "      <td>127</td>\n",
              "    </tr>\n",
              "  </tbody>\n",
              "</table>\n",
              "<p>19158 rows × 5 columns</p>\n",
              "</div>"
            ],
            "text/plain": [
              "           relevent_experience enrolled_university education_level  \\\n",
              "0      Has relevent experience           No Enroll        Graduate   \n",
              "1       No relevent experience           No Enroll        Graduate   \n",
              "2       No relevent experience           Full Time        Graduate   \n",
              "3       No relevent experience                 NaN        Graduate   \n",
              "4      Has relevent experience           No Enroll         Masters   \n",
              "...                        ...                 ...             ...   \n",
              "19153   No relevent experience           No Enroll        Graduate   \n",
              "19154  Has relevent experience           No Enroll        Graduate   \n",
              "19155  Has relevent experience           No Enroll        Graduate   \n",
              "19156  Has relevent experience           No Enroll     High School   \n",
              "19157   No relevent experience           No Enroll  Primary School   \n",
              "\n",
              "      major_discipline  training_hours  \n",
              "0                 STEM              36  \n",
              "1                 STEM              47  \n",
              "2                 STEM              83  \n",
              "3             Non-STEM              52  \n",
              "4                 STEM               8  \n",
              "...                ...             ...  \n",
              "19153         Non-STEM              42  \n",
              "19154             STEM              52  \n",
              "19155             STEM              44  \n",
              "19156              NaN              97  \n",
              "19157              NaN             127  \n",
              "\n",
              "[19158 rows x 5 columns]"
            ]
          },
          "execution_count": 381,
          "metadata": {},
          "output_type": "execute_result"
        }
      ],
      "source": [
        "df = df_train[['relevent_experience','enrolled_university','education_level','major_discipline','training_hours']].copy()\n",
        "df['enrolled_university'] = df['enrolled_university'].apply(lambda x: \"No Enroll\" if x == \"no_enrollment\"\n",
        "                                                            else \"Full Time\" if x == \"Full time course\" \n",
        "                                                            else np.nan if pd.isna(x) else \"Part Time\")\n",
        "df['major_discipline'] = df['major_discipline'].apply(lambda x: \"STEM\" if x == \"STEM\"\n",
        "                                                        else \"No Major\" if x == \"No Major\" \n",
        "                                                        else np.nan if pd.isna(x) else \"Non-STEM\")\n",
        "df"
      ]
    },
    {
      "cell_type": "code",
      "execution_count": 382,
      "metadata": {},
      "outputs": [
        {
          "data": {
            "text/plain": [
              "(np.float64(0.0), np.float64(1.0), np.float64(0.0), np.float64(1.0))"
            ]
          },
          "execution_count": 382,
          "metadata": {},
          "output_type": "execute_result"
        },
        {
          "data": {
            "image/png": "[encoded data removed]",
            "text/plain": [
              "<Figure size 1500x1100 with 5 Axes>"
            ]
          },
          "metadata": {},
          "output_type": "display_data"
        }
      ],
      "source": [
        "fig = plt.figure(figsize=(15,11))\n",
        "gs = fig.add_gridspec(3,2)\n",
        "gs.update(wspace=0.05, hspace=0.35)\n",
        "\n",
        "ax0 = fig.add_subplot(gs[1, 0])\n",
        "ax1 = fig.add_subplot(gs[1, 1])\n",
        "ax2 = fig.add_subplot(gs[2, 0])\n",
        "ax3 = fig.add_subplot(gs[2, 1])\n",
        "axtext = fig.add_subplot(gs[0, :])\n",
        "\n",
        "# ax0 - Count Plot - Relevent Experience\n",
        "ax0.grid(color='gray', ls=':', axis='y', zorder=0, dashes=(1,10))\n",
        "dfg = df.groupby('relevent_experience')['training_hours'].mean().reset_index().set_index('relevent_experience').loc[['No relevent experience','Has relevent experience']].reset_index()\n",
        "sns.lineplot(data=dfg, x='relevent_experience', y='training_hours', ax=ax0, marker='o', color=blue)\n",
        "\n",
        "ax0.yaxis.set_major_locator(mtick.MultipleLocator(2))\n",
        "ax0.set_ylabel('')\n",
        "ax0.set_xlabel('')\n",
        "ax0.set_ylim(60,70)\n",
        "ax0.set_xlim(-0.5,1.5)\n",
        "\n",
        "# ax1 - Count Plot - Enrolled University\n",
        "ax1.grid(color='gray', ls=':', axis='y', zorder=0, dashes=(1,10))\n",
        "dfg = df.groupby('enrolled_university')['training_hours'].mean().reset_index().set_index('enrolled_university').loc[['No Enroll','Part Time','Full Time']].reset_index()\n",
        "sns.lineplot(data=dfg, x='enrolled_university', y='training_hours', ax=ax1, marker='o', color=green)\n",
        "\n",
        "ax1.yaxis.set_major_locator(mtick.MultipleLocator(2))\n",
        "ax1.set_ylabel('')\n",
        "ax1.set_xlabel('')\n",
        "ax1.set_ylim(60,70)\n",
        "ax1.set_xlim(-0.5,2.5)\n",
        "ax1.set_yticklabels([])\n",
        "\n",
        "# ax2 - Count Plot - Major Discipline\n",
        "ax2.grid(color='gray', ls=':', axis='y', zorder=0, dashes=(1,10))\n",
        "dfg = df.groupby('major_discipline')['training_hours'].mean().reset_index().set_index('major_discipline').loc[['No Major','Non-STEM','STEM']].reset_index()\n",
        "sns.lineplot(data=dfg, x='major_discipline', y='training_hours', ax=ax2, marker='o', color=red)\n",
        "\n",
        "ax2.yaxis.set_major_locator(mtick.MultipleLocator(2))\n",
        "ax2.set_ylabel('')\n",
        "ax2.set_xlabel('')\n",
        "ax2.set_ylim(60,70)\n",
        "ax2.set_xlim(-0.5,2.5)\n",
        "\n",
        "# ax3 - Count Plot - Education Level\n",
        "ax3.grid(color='gray', ls=':', axis='y', zorder=0, dashes=(1,10))\n",
        "dfg = df.groupby('education_level')['training_hours'].mean().reset_index().set_index('education_level').loc[['Primary School','High School','Graduate','Masters','Phd']].reset_index()\n",
        "sns.lineplot(data=dfg, x='education_level', y='training_hours', ax=ax3, marker='o', color=gray)\n",
        "\n",
        "ax3.yaxis.set_major_locator(mtick.MultipleLocator(2))\n",
        "ax3.set_ylabel('')\n",
        "ax3.set_xlabel('')\n",
        "ax3.set_ylim(60,70)\n",
        "ax3.set_xlim(-0.5,4.5)\n",
        "ax3.set_yticklabels([])\n",
        "\n",
        "# axtext - Text\n",
        "axtext.text(0.5, 0.5, 'Average Training Hours based on Participants Background', size=14, weight='bold', horizontalalignment = 'center')\n",
        "axtext.text(0.298+0.013, 0.3, '(Relevant Experience,', color=blue, weight='bold', size=10, horizontalalignment = 'center')\n",
        "axtext.text(0.435+0.013, 0.3, 'Enrolled University,', color=green, weight='bold', size=10, horizontalalignment = 'center')\n",
        "axtext.text(0.56+0.013, 0.3, 'Major Discipline,', color=red, weight='bold', size=10, horizontalalignment = 'center')\n",
        "axtext.text(0.63+0.013, 0.3, 'and', size=10, horizontalalignment = 'center')\n",
        "axtext.text(0.698+0.013, 0.3, 'Education Level)', color=gray, weight='bold', size=10, horizontalalignment = 'center')\n",
        "axtext.set_position([0.1, 0.65, 0.81, 0.1])\n",
        "axtext.axis('off')\n"
      ]
    }
  ],
  "metadata": {
    "colab": {
      "provenance": []
    },
    "kernelspec": {
      "display_name": "Python 3",
      "name": "python3"
    },
    "language_info": {
      "codemirror_mode": {
        "name": "ipython",
        "version": 3
      },
      "file_extension": ".py",
      "mimetype": "text/x-python",
      "name": "python",
      "nbconvert_exporter": "python",
      "pygments_lexer": "ipython3",
      "version": "3.13.1"
    }
  },
  "nbformat": 4,
  "nbformat_minor": 0
}
